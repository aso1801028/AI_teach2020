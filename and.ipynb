{
  "nbformat": 4,
  "nbformat_minor": 0,
  "metadata": {
    "colab": {
      "name": "and.ipynb",
      "provenance": [],
      "collapsed_sections": [],
      "authorship_tag": "ABX9TyMyBelmc4up1cqPer/QcvlP",
      "include_colab_link": true
    },
    "kernelspec": {
      "name": "python3",
      "display_name": "Python 3"
    }
  },
  "cells": [
    {
      "cell_type": "markdown",
      "metadata": {
        "id": "view-in-github",
        "colab_type": "text"
      },
      "source": [
        "<a href=\"https://colab.research.google.com/github/aso1801028/AI_teach2020/blob/master/and.ipynb\" target=\"_parent\"><img src=\"https://colab.research.google.com/assets/colab-badge.svg\" alt=\"Open In Colab\"/></a>"
      ]
    },
    {
      "cell_type": "markdown",
      "metadata": {
        "id": "m5ncS9jZqPaK"
      },
      "source": [
        "### AND演算をモデルに学ばせる(LinearSVC)"
      ]
    },
    {
      "cell_type": "code",
      "metadata": {
        "id": "U2f-AkyPqeaT"
      },
      "source": [
        "# Scikit-learnをインポート\n",
        "from sklearn.svm import LinearSVC #線形SVCのオブジェクト\n",
        "from sklearn.metrics import accuracy_score #結果を評価するためのオブジェクト"
      ],
      "execution_count": 1,
      "outputs": []
    },
    {
      "cell_type": "markdown",
      "metadata": {
        "id": "OZmH7VFirVie"
      },
      "source": [
        "### 学習のためのデータを用意する"
      ]
    },
    {
      "cell_type": "code",
      "metadata": {
        "id": "8ba4gym2qxMe"
      },
      "source": [
        "#入力値を表すデータ\n",
        "#入力X、入力Y\n",
        "learn_data = [ [0,0],[1,0],[0,1],[1,1] ]\n",
        "#（XとYのand）結果\n",
        "learn_label = [ 0,0,0,1 ]\n"
      ],
      "execution_count": 2,
      "outputs": []
    },
    {
      "cell_type": "markdown",
      "metadata": {
        "id": "fGJVWX3-s95C"
      },
      "source": [
        "###アルゴリズムのインスタンスを生成"
      ]
    },
    {
      "cell_type": "code",
      "metadata": {
        "id": "Etzu6vfgtDU9"
      },
      "source": [
        "### 線形SVCのインスタンスを生成\n",
        "clf = LinearSVC()"
      ],
      "execution_count": 3,
      "outputs": []
    },
    {
      "cell_type": "markdown",
      "metadata": {
        "id": "I9ngPTT9tXH8"
      },
      "source": [
        "###モデルに学習させる(fitメソッド)"
      ]
    },
    {
      "cell_type": "code",
      "metadata": {
        "id": "mfrS83uEtc5z",
        "outputId": "71e9a920-877f-4e3f-9c0b-640740585095",
        "colab": {
          "base_uri": "https://localhost:8080/",
          "height": 89
        }
      },
      "source": [
        "clf.fit(learn_data,learn_label)"
      ],
      "execution_count": 4,
      "outputs": [
        {
          "output_type": "execute_result",
          "data": {
            "text/plain": [
              "LinearSVC(C=1.0, class_weight=None, dual=True, fit_intercept=True,\n",
              "          intercept_scaling=1, loss='squared_hinge', max_iter=1000,\n",
              "          multi_class='ovr', penalty='l2', random_state=None, tol=0.0001,\n",
              "          verbose=0)"
            ]
          },
          "metadata": {
            "tags": []
          },
          "execution_count": 4
        }
      ]
    },
    {
      "cell_type": "markdown",
      "metadata": {
        "id": "qv2Yvv5_uRr7"
      },
      "source": [
        "###モデルがちゃんと学習できたか、テストデータで、予測させてみる"
      ]
    },
    {
      "cell_type": "code",
      "metadata": {
        "id": "rgVOnlIYubqG",
        "outputId": "07c37a26-fa43-40c4-d7db-165ca2882380",
        "colab": {
          "base_uri": "https://localhost:8080/",
          "height": 71
        }
      },
      "source": [
        "###予測用のテストデータ(検証データ)を作る\n",
        "test_data = [ [0,0],[1,0],[0,1],[1,1] ]\n",
        "#モデルにテストデータを回答させる(予測)予測メソッドはpredict\n",
        "test_label = clf.predict( test_data )\n",
        "print(test_label)\n",
        "#予測結果の評価\n",
        "print(test_data,\"の予測結果\",test_label)\n",
        "#結果の精度を表示させる\n",
        "print(\"正解率=\",accuracy_score([0,0,0,1],test_label))"
      ],
      "execution_count": 5,
      "outputs": [
        {
          "output_type": "stream",
          "text": [
            "[0 0 0 1]\n",
            "[[0, 0], [1, 0], [0, 1], [1, 1]] の予測結果 [0 0 0 1]\n",
            "正解率= 1.0\n"
          ],
          "name": "stdout"
        }
      ]
    },
    {
      "cell_type": "markdown",
      "metadata": {
        "id": "cCPJYbkHwXZK"
      },
      "source": [
        "XOR演算を実装する"
      ]
    },
    {
      "cell_type": "code",
      "metadata": {
        "id": "ilYF9FVSweF5"
      },
      "source": [
        "#XORの演算を学習するためのデータを用意する\n",
        "#X,Yの順\n",
        "learn_data = [ [0,0],[1,0],[0,1],[1,1] ]\n",
        "#X or Y の結果正解データ(学習ラベル)\n",
        "learn_label = [ 0, 1, 1, 0 ]"
      ],
      "execution_count": 6,
      "outputs": []
    },
    {
      "cell_type": "code",
      "metadata": {
        "id": "ulnANhlqwcfq",
        "outputId": "c234c4e5-26b3-4187-bd06-0a6e5c75822a",
        "colab": {
          "base_uri": "https://localhost:8080/",
          "height": 89
        }
      },
      "source": [
        "#学習モデルのインスタンスを作る(LinearSVC)\n",
        "clf = LinearSVC()\n",
        "#学習させる\n",
        "clf.fit(learn_data, learn_label)"
      ],
      "execution_count": 7,
      "outputs": [
        {
          "output_type": "execute_result",
          "data": {
            "text/plain": [
              "LinearSVC(C=1.0, class_weight=None, dual=True, fit_intercept=True,\n",
              "          intercept_scaling=1, loss='squared_hinge', max_iter=1000,\n",
              "          multi_class='ovr', penalty='l2', random_state=None, tol=0.0001,\n",
              "          verbose=0)"
            ]
          },
          "metadata": {
            "tags": []
          },
          "execution_count": 7
        }
      ]
    },
    {
      "cell_type": "code",
      "metadata": {
        "id": "tSbF-lvBxrae"
      },
      "source": [
        "#学習モデルに推論させる\n",
        "test_data = [ [0,0],[1,0],[0,1],[1,1] ]\n",
        "test_label = clf.predict(test_data)"
      ],
      "execution_count": 8,
      "outputs": []
    },
    {
      "cell_type": "code",
      "metadata": {
        "id": "ZNpsYE1ryRTZ",
        "outputId": "9d08e7f0-52f5-4429-a167-5a3f7d5b06b2",
        "colab": {
          "base_uri": "https://localhost:8080/",
          "height": 53
        }
      },
      "source": [
        "#結果を検証する\n",
        "print(test_data, \"の予測結果\",test_label)\n",
        "print(\"正解率 = \",accuracy_score([0,1,1,0],test_label))"
      ],
      "execution_count": 9,
      "outputs": [
        {
          "output_type": "stream",
          "text": [
            "[[0, 0], [1, 0], [0, 1], [1, 1]] の予測結果 [0 1 1 1]\n",
            "正解率 =  0.75\n"
          ],
          "name": "stdout"
        }
      ]
    },
    {
      "cell_type": "markdown",
      "metadata": {
        "id": "Zp1gEjs7ZY-B"
      },
      "source": [
        "#K近傍方でXOR演算を実装"
      ]
    },
    {
      "cell_type": "code",
      "metadata": {
        "id": "LbfvL71qZf_J"
      },
      "source": [
        "#k近傍法のアルゴリズムのクラスをimport\n",
        "from sklearn.neighbors import KNeighborsClassifier"
      ],
      "execution_count": 11,
      "outputs": []
    },
    {
      "cell_type": "code",
      "metadata": {
        "id": "6vEc-qdbaAio"
      },
      "source": [
        "# 学習モデルの変数clfをK近傍法アルゴリズムのインスタンスで上書き\n",
        "clf=KNeighborsClassifier(n_neighbors=1)"
      ],
      "execution_count": 12,
      "outputs": []
    },
    {
      "cell_type": "code",
      "metadata": {
        "id": "SymxeTaSak8X",
        "outputId": "52b35b66-a95b-45c2-e7fb-7fbfb7f3f246",
        "colab": {
          "base_uri": "https://localhost:8080/",
          "height": 71
        }
      },
      "source": [
        "#学習用入力データ(learn_data)と結果正解データ(learn_label)を使って求める\n",
        "clf.fit(learn_data, learn_label)"
      ],
      "execution_count": 13,
      "outputs": [
        {
          "output_type": "execute_result",
          "data": {
            "text/plain": [
              "KNeighborsClassifier(algorithm='auto', leaf_size=30, metric='minkowski',\n",
              "                     metric_params=None, n_jobs=None, n_neighbors=1, p=2,\n",
              "                     weights='uniform')"
            ]
          },
          "metadata": {
            "tags": []
          },
          "execution_count": 13
        }
      ]
    },
    {
      "cell_type": "code",
      "metadata": {
        "id": "rYEgc9dtbRsn",
        "outputId": "61d804aa-085b-4b00-9540-146776da9ed9",
        "colab": {
          "base_uri": "https://localhost:8080/",
          "height": 53
        }
      },
      "source": [
        "#テスト検証データ（test_data）と答え合わせ用の正解データ（[0,1,1,0]test_label）\n",
        "test_label = clf.predict(test_data)\n",
        "#推論結果の評価\n",
        "print(test_data,\"の予測（推論）結果\", test_label)\n",
        "print(\"正解率 = \",accuracy_score( [0,1,1,0], test_label ))"
      ],
      "execution_count": 15,
      "outputs": [
        {
          "output_type": "stream",
          "text": [
            "[[0, 0], [1, 0], [0, 1], [1, 1]] の予測（推論）結果 [0 1 1 0]\n",
            "正解率 =  1.0\n"
          ],
          "name": "stdout"
        }
      ]
    },
    {
      "cell_type": "code",
      "metadata": {
        "id": "fOwCifvxcH3n"
      },
      "source": [
        ""
      ],
      "execution_count": null,
      "outputs": []
    }
  ]
}