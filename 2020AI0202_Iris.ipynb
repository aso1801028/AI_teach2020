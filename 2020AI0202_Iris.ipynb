{
  "nbformat": 4,
  "nbformat_minor": 0,
  "metadata": {
    "colab": {
      "name": "2020AI0202-Iris.ipynb",
      "provenance": [],
      "collapsed_sections": [],
      "authorship_tag": "ABX9TyM0Ofla/N036hw+OubCxS4r",
      "include_colab_link": true
    },
    "kernelspec": {
      "name": "python3",
      "display_name": "Python 3"
    }
  },
  "cells": [
    {
      "cell_type": "markdown",
      "metadata": {
        "id": "view-in-github",
        "colab_type": "text"
      },
      "source": [
        "<a href=\"https://colab.research.google.com/github/aso1801028/AI_teach2020/blob/master/2020AI0202_Iris.ipynb\" target=\"_parent\"><img src=\"https://colab.research.google.com/assets/colab-badge.svg\" alt=\"Open In Colab\"/></a>"
      ]
    },
    {
      "cell_type": "markdown",
      "metadata": {
        "id": "GFctZAmRMv56"
      },
      "source": [
        "### URLオブジェクトを使ってファイルをリンクから保存"
      ]
    },
    {
      "cell_type": "code",
      "metadata": {
        "id": "AoB4uoQ8NA8d"
      },
      "source": [
        "#urlライブラリーのrequestクラスをreqという別名でimport\n",
        "import urllib.request as req\n",
        "# pandas ライブラリーをpdという別名でimport\n",
        "import pandas as pd"
      ],
      "execution_count": 1,
      "outputs": []
    },
    {
      "cell_type": "code",
      "metadata": {
        "id": "t08FH8XANMuX",
        "outputId": "22b60edd-181d-4957-d644-a5f430486df5",
        "colab": {
          "base_uri": "https://localhost:8080/",
          "height": 35
        }
      },
      "source": [
        "# urlという名前のオブジェクト変数を定義\n",
        "url = \"https://github.com/pandas-dev/pandas/raw/master/pandas/tests/io/data/csv/iris.csv\"\n",
        "#リンクから保存するためのファイル名を定義\n",
        "savefile = \"iris.csv\"\n",
        "#requestクラスを使ってurlからデータをsavefileへコピー\n",
        "req.urlretrieve(url,savefile)\n",
        "print(\"保存しました\")"
      ],
      "execution_count": 2,
      "outputs": [
        {
          "output_type": "stream",
          "text": [
            "保存しました\n"
          ],
          "name": "stdout"
        }
      ]
    },
    {
      "cell_type": "code",
      "metadata": {
        "id": "jdZztoatPQ-Q"
      },
      "source": [
        "#pandasのread_csv メソッドを使ってCSVファイルを読み込む\n",
        "#iris_dataに読み込んだデータを入れる\n",
        "iris_data = pd.read_csv(savefile,encoding=\"utf-8\")\n"
      ],
      "execution_count": 6,
      "outputs": []
    },
    {
      "cell_type": "markdown",
      "metadata": {
        "id": "tv7fkkIRV8xG"
      },
      "source": [
        "### 機械学習のライブラリーを読み込む"
      ]
    },
    {
      "cell_type": "code",
      "metadata": {
        "id": "mASUh5ZsWETL"
      },
      "source": [
        "#機械学習のデータを学習用とテスト用に分けるためのクラス\n",
        "from sklearn.model_selection import train_test_split\n",
        "# サポートベクターマシン(SVC)のSVCアルゴリズムのクラス\n",
        "from sklearn.svm import SVC\n",
        "# テストの評価用クラス\n",
        "from sklearn.metrics import accuracy_score"
      ],
      "execution_count": 7,
      "outputs": []
    },
    {
      "cell_type": "markdown",
      "metadata": {
        "id": "JpKblCDqXLr8"
      },
      "source": [
        "### アヤメのCSVデータを正解(ラベル)と入力データに分離する\n",
        "列を分ける"
      ]
    },
    {
      "cell_type": "code",
      "metadata": {
        "id": "WH8OvHYiXej7",
        "outputId": "9597fef1-4663-44c8-9bed-e89529e6b836",
        "colab": {
          "base_uri": "https://localhost:8080/",
          "height": 233
        }
      },
      "source": [
        "#pythonのリスト切り出しを使って表を縦に分割する\n",
        "#yに右一列(\"Name\"の列)だけを切り取って代入\n",
        "y = iris_data.loc[:,\"Name\"]\n",
        "y"
      ],
      "execution_count": 11,
      "outputs": [
        {
          "output_type": "execute_result",
          "data": {
            "text/plain": [
              "0         Iris-setosa\n",
              "1         Iris-setosa\n",
              "2         Iris-setosa\n",
              "3         Iris-setosa\n",
              "4         Iris-setosa\n",
              "            ...      \n",
              "145    Iris-virginica\n",
              "146    Iris-virginica\n",
              "147    Iris-virginica\n",
              "148    Iris-virginica\n",
              "149    Iris-virginica\n",
              "Name: Name, Length: 150, dtype: object"
            ]
          },
          "metadata": {
            "tags": []
          },
          "execution_count": 11
        }
      ]
    },
    {
      "cell_type": "code",
      "metadata": {
        "id": "LHnnSVtYYjB7",
        "outputId": "baa1dbec-7ed0-49eb-8c49-c5822db4a2ab",
        "colab": {
          "base_uri": "https://localhost:8080/",
          "height": 269
        }
      },
      "source": [
        "#xに左4列のデータを切り取って代入\n",
        "x=iris_data.loc[:,[\"SepalLength\", \"SepalWidth\",\t\"PetalLength\",\t\"PetalWidth\"]]\n",
        "print(x)"
      ],
      "execution_count": 13,
      "outputs": [
        {
          "output_type": "stream",
          "text": [
            "     SepalLength  SepalWidth  PetalLength  PetalWidth\n",
            "0            5.1         3.5          1.4         0.2\n",
            "1            4.9         3.0          1.4         0.2\n",
            "2            4.7         3.2          1.3         0.2\n",
            "3            4.6         3.1          1.5         0.2\n",
            "4            5.0         3.6          1.4         0.2\n",
            "..           ...         ...          ...         ...\n",
            "145          6.7         3.0          5.2         2.3\n",
            "146          6.3         2.5          5.0         1.9\n",
            "147          6.5         3.0          5.2         2.0\n",
            "148          6.2         3.4          5.4         2.3\n",
            "149          5.9         3.0          5.1         1.8\n",
            "\n",
            "[150 rows x 4 columns]\n"
          ],
          "name": "stdout"
        }
      ]
    },
    {
      "cell_type": "code",
      "metadata": {
        "id": "Woh6BE57ZndU"
      },
      "source": [
        "#train_test_splitを使って、xもyもtrainデータとtestデータにランダムに分ける(shuffle)\n",
        "#比率はtest0.2,train0.8 x_train,y_train x_test,y_testという変数に代入する\n",
        "x_train, x_test, y_train, y_test= train_test_split(x,y, test_size=0.2, train_size=0.8, shuffle=True)"
      ],
      "execution_count": 15,
      "outputs": []
    },
    {
      "cell_type": "markdown",
      "metadata": {
        "id": "vOEsFhe-tVvX"
      },
      "source": [
        "###Xtraiin(学習入力用データ)、Ytrain(学習用正解データ)を使ってモデルを学習させる"
      ]
    },
    {
      "cell_type": "code",
      "metadata": {
        "id": "aOlN5i2HvRbk",
        "outputId": "a85d7c95-a3d9-42c3-8784-2cf7dedf03fb",
        "colab": {
          "base_uri": "https://localhost:8080/",
          "height": 89
        }
      },
      "source": [
        "#SVCアルゴリズムの学習モデルのインスタンスを生成\n",
        "clf=SVC()\n",
        "\n",
        "#SVCアルゴリズムの学習モデルに学習用の入力データと正解データを引き渡して学習させる\n",
        "clf.fit(x_train,y_train)"
      ],
      "execution_count": 16,
      "outputs": [
        {
          "output_type": "execute_result",
          "data": {
            "text/plain": [
              "SVC(C=1.0, break_ties=False, cache_size=200, class_weight=None, coef0=0.0,\n",
              "    decision_function_shape='ovr', degree=3, gamma='scale', kernel='rbf',\n",
              "    max_iter=-1, probability=False, random_state=None, shrinking=True,\n",
              "    tol=0.001, verbose=False)"
            ]
          },
          "metadata": {
            "tags": []
          },
          "execution_count": 16
        }
      ]
    },
    {
      "cell_type": "markdown",
      "metadata": {
        "id": "UUgNifaBwd8L"
      },
      "source": [
        "###学習がうまくいったかを検証して評価する\n",
        "x_testデータを使って推論させた結果(y_pread)と本来の正解データ(y_test)を比較して推論がどれくらいの割合正解しているかを評価する"
      ]
    },
    {
      "cell_type": "code",
      "metadata": {
        "id": "lPGf27I9xIdf",
        "outputId": "ae2025b5-51ed-4fff-d05f-ef7bc518b02e",
        "colab": {
          "base_uri": "https://localhost:8080/",
          "height": 35
        }
      },
      "source": [
        "# x_testデータを使って学習モデルclfに推論させる(結果は変数preadに代入)\n",
        "y_pread = clf.predict(x_test)\n",
        "#accuracy_scoreでy_preadとy_testを比較する\n",
        "print(\"正解率 = \" ,accuracy_score(y_test,y_pread))"
      ],
      "execution_count": 18,
      "outputs": [
        {
          "output_type": "stream",
          "text": [
            "正解率 =  0.9666666666666667\n"
          ],
          "name": "stdout"
        }
      ]
    },
    {
      "cell_type": "code",
      "metadata": {
        "id": "tUs75C3jxpGj"
      },
      "source": [
        ""
      ],
      "execution_count": null,
      "outputs": []
    }
  ]
}