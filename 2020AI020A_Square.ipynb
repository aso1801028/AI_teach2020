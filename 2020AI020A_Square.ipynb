{
  "nbformat": 4,
  "nbformat_minor": 0,
  "metadata": {
    "colab": {
      "name": "2020AI020A-Square.ipynb",
      "provenance": [],
      "collapsed_sections": [],
      "authorship_tag": "ABX9TyOetO9XslBAiZx8cijgWUsR",
      "include_colab_link": true
    },
    "kernelspec": {
      "name": "python3",
      "display_name": "Python 3"
    }
  },
  "cells": [
    {
      "cell_type": "markdown",
      "metadata": {
        "id": "view-in-github",
        "colab_type": "text"
      },
      "source": [
        "<a href=\"https://colab.research.google.com/github/aso1801028/AI_teach2020/blob/master/2020AI020A_Square.ipynb\" target=\"_parent\"><img src=\"https://colab.research.google.com/assets/colab-badge.svg\" alt=\"Open In Colab\"/></a>"
      ]
    },
    {
      "cell_type": "code",
      "metadata": {
        "id": "LwKejo-hggOG"
      },
      "source": [
        "import urllib.request as req\n",
        "#ライブラリーの読み込み\n",
        "import pandas as pd\n",
        "\n",
        "\n",
        "#データを学習用とテスト用に分けるライブラリ\n",
        "#from sklearn.model_selection import train_test_split\n",
        "#ランダムフォレストのアルゴリズムの学習モデル\n",
        "#from sklearn.ensemble import RandomForestClassifier\n",
        "#学習制度を評価するライブラリ\n",
        "#from sklearn.metrics import accuracy_score\n",
        "#分類結果を出力するライブラリ\n",
        "#from sklearn.metrics import classification_report"
      ],
      "execution_count": 125,
      "outputs": []
    },
    {
      "cell_type": "code",
      "metadata": {
        "id": "t08FH8XANMuX",
        "outputId": "b420a1e6-2646-4ee0-f147-f995e3778f91",
        "colab": {
          "base_uri": "https://localhost:8080/",
          "height": 35
        }
      },
      "source": [
        "#webから読み込むためのライブラリ\n",
        "#from urllib.request import urlretrieve\n",
        "# urlという名前のオブジェクト変数を定義\n",
        "url = \"https://raw.githubusercontent.com/masatokg/square_data/master/data.csv\"\n",
        "#savepath = \"squarequality-square.csv\"\n",
        "#データをwebアクセスでコピーして指定したファイルパス名に保存\n",
        "#urlretrieve(url,savepath)\n",
        "\n",
        "\n",
        "#リンクから保存するためのファイル名を定義\n",
        "savefile = \"iris.csv\"\n",
        "#requestクラスを使ってurlからデータをsavefileへコピー\n",
        "req.urlretrieve(url,savefile)\n",
        "print(\"保存しました\")"
      ],
      "execution_count": 126,
      "outputs": [
        {
          "output_type": "stream",
          "text": [
            "保存しました\n"
          ],
          "name": "stdout"
        }
      ]
    },
    {
      "cell_type": "code",
      "metadata": {
        "id": "jdZztoatPQ-Q"
      },
      "source": [
        "#変数squareにデータ保持\n",
        "#square= pd.read_csv(savepath,sep=\";\",encoding=\"utf-8\")\n",
        "#読み込んだデータの最初のほうを表示\n",
        "#print(square.head())\n",
        "#square.head()\n"
      ],
      "execution_count": 127,
      "outputs": []
    },
    {
      "cell_type": "code",
      "metadata": {
        "id": "Rp1_PZ50VCay"
      },
      "source": [
        "#pandasのread_csv メソッドを使ってCSVファイルを読み込む\n",
        "#iris_dataに読み込んだデータを入れる\n",
        "square_data = pd.read_csv(savefile,encoding=\"utf-8\")"
      ],
      "execution_count": 128,
      "outputs": []
    },
    {
      "cell_type": "code",
      "metadata": {
        "id": "WH8OvHYiXej7"
      },
      "source": [
        "#機械学習のデータを学習用とテスト用に分けるためのクラス\n",
        "from sklearn.model_selection import train_test_split\n",
        "# サポートベクターマシン(SVC)のSVCアルゴリズムのクラス\n",
        "from sklearn.svm import SVC\n",
        "# テストの評価用クラス\n",
        "from sklearn.metrics import accuracy_score"
      ],
      "execution_count": 129,
      "outputs": []
    },
    {
      "cell_type": "code",
      "metadata": {
        "id": "62_pUzgRcznv",
        "outputId": "45d3c195-4253-408c-aed8-2e834200f33c",
        "colab": {
          "base_uri": "https://localhost:8080/",
          "height": 233
        }
      },
      "source": [
        "#pythonのリスト切り出しを使って表を縦に分割する\n",
        "#yに右一列(\"Name\"の列)だけを切り取って代入\n",
        "y = square_data.loc[:,'shape']\n",
        "y\n",
        "#y=square_data.loc[:,[\"shape\",\"cd_Parallel\",\"ab_right_angle\"]]\n",
        "#y"
      ],
      "execution_count": 130,
      "outputs": [
        {
          "output_type": "execute_result",
          "data": {
            "text/plain": [
              "0         square\n",
              "1         square\n",
              "2         square\n",
              "3         square\n",
              "4         square\n",
              "         ...    \n",
              "395    trapezoid\n",
              "396    trapezoid\n",
              "397    trapezoid\n",
              "398    trapezoid\n",
              "399    trapezoid\n",
              "Name: shape, Length: 400, dtype: object"
            ]
          },
          "metadata": {
            "tags": []
          },
          "execution_count": 130
        }
      ]
    },
    {
      "cell_type": "markdown",
      "metadata": {
        "id": "FS15AFWocya1"
      },
      "source": [
        "##?"
      ]
    },
    {
      "cell_type": "code",
      "metadata": {
        "id": "LHnnSVtYYjB7",
        "outputId": "5d918be7-8072-44e7-907f-3f3d948bb88b",
        "colab": {
          "base_uri": "https://localhost:8080/",
          "height": 269
        }
      },
      "source": [
        "#xに左4列のデータを切り取って代入\n",
        "x=square_data.loc[:,[\"a_length\",\t\"b_length\",\t\"c_length\",\t\"d_length\",\t\"ab_Parallel\",\"cd_Parallel\",\"ab_right_angle\"]]\n",
        "print(x)"
      ],
      "execution_count": 131,
      "outputs": [
        {
          "output_type": "stream",
          "text": [
            "     a_length  b_length  c_length  ...  ab_Parallel  cd_Parallel  ab_right_angle\n",
            "0          10        10        10  ...            1            1               1\n",
            "1          11        11        11  ...            1            1               1\n",
            "2          12        12        12  ...            1            1               1\n",
            "3          13        13        13  ...            1            1               1\n",
            "4          14        14        14  ...            1            1               1\n",
            "..        ...       ...       ...  ...          ...          ...             ...\n",
            "395       100       125       105  ...            1            0               0\n",
            "396       101       126       106  ...            1            0               0\n",
            "397       102       127       107  ...            1            0               0\n",
            "398       103       128       108  ...            1            0               0\n",
            "399       104       129       109  ...            1            0               0\n",
            "\n",
            "[400 rows x 7 columns]\n"
          ],
          "name": "stdout"
        }
      ]
    },
    {
      "cell_type": "code",
      "metadata": {
        "id": "Woh6BE57ZndU"
      },
      "source": [
        "#train_test_splitを使って、xもyもtrainデータとtestデータにランダムに分ける(shuffle)\n",
        "#比率はtest0.2,train0.8 x_train,y_train x_test,y_testという変数に代入する\n",
        "x_train, x_test, y_train, y_test= train_test_split(x,y, test_size=0.2, train_size=0.8, shuffle=True)"
      ],
      "execution_count": 132,
      "outputs": []
    },
    {
      "cell_type": "code",
      "metadata": {
        "id": "aOlN5i2HvRbk",
        "outputId": "45dfc3d4-2677-4322-8f1a-a84475748c48",
        "colab": {
          "base_uri": "https://localhost:8080/",
          "height": 89
        }
      },
      "source": [
        "#SVCアルゴリズムの学習モデルのインスタンスを生成\n",
        "clf=SVC()\n",
        "#SVCアルゴリズムの学習モデルに学習用の入力データと正解データを引き渡して学習させる\n",
        "clf.fit(x_train,y_train)"
      ],
      "execution_count": 133,
      "outputs": [
        {
          "output_type": "execute_result",
          "data": {
            "text/plain": [
              "SVC(C=1.0, break_ties=False, cache_size=200, class_weight=None, coef0=0.0,\n",
              "    decision_function_shape='ovr', degree=3, gamma='scale', kernel='rbf',\n",
              "    max_iter=-1, probability=False, random_state=None, shrinking=True,\n",
              "    tol=0.001, verbose=False)"
            ]
          },
          "metadata": {
            "tags": []
          },
          "execution_count": 133
        }
      ]
    },
    {
      "cell_type": "code",
      "metadata": {
        "id": "lPGf27I9xIdf",
        "outputId": "e08e2538-e3c0-4d2b-9a6b-4bfe86e56ac2",
        "colab": {
          "base_uri": "https://localhost:8080/",
          "height": 35
        }
      },
      "source": [
        "# x_testデータを使って学習モデルclfに推論させる(結果は変数preadに代入)\n",
        "y_pread = clf.predict(x_test)\n",
        "#accuracy_scoreでy_preadとy_testを比較する\n",
        "print(\"正解率 = \" ,accuracy_score(y_test,y_pread))"
      ],
      "execution_count": 134,
      "outputs": [
        {
          "output_type": "stream",
          "text": [
            "正解率 =  0.7125\n"
          ],
          "name": "stdout"
        }
      ]
    }
  ]
}