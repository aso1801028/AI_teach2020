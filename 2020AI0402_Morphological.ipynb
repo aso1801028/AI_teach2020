{
  "nbformat": 4,
  "nbformat_minor": 0,
  "metadata": {
    "colab": {
      "name": "2020AI0402-Morphological.ipynb",
      "provenance": [],
      "authorship_tag": "ABX9TyPLuuY89u6ehEnPKfi3KqTd",
      "include_colab_link": true
    },
    "kernelspec": {
      "name": "python3",
      "display_name": "Python 3"
    }
  },
  "cells": [
    {
      "cell_type": "markdown",
      "metadata": {
        "id": "view-in-github",
        "colab_type": "text"
      },
      "source": [
        "<a href=\"https://colab.research.google.com/github/aso1801028/AI_teach2020/blob/master/2020AI0402_Morphological.ipynb\" target=\"_parent\"><img src=\"https://colab.research.google.com/assets/colab-badge.svg\" alt=\"Open In Colab\"/></a>"
      ]
    },
    {
      "cell_type": "markdown",
      "metadata": {
        "id": "3rFkLCC1BoDk"
      },
      "source": [
        "##形態素解析"
      ]
    },
    {
      "cell_type": "markdown",
      "metadata": {
        "id": "XI3BpToCBska"
      },
      "source": [
        "###形態素解析ライブラリMecabのインストール"
      ]
    },
    {
      "cell_type": "code",
      "metadata": {
        "id": "4cnlkAlqIaYd"
      },
      "source": [
        "#mecabu インストール\r\n",
        "!apt-get -q -y install sudo file mecab libmecab-dev mecab-ipadic-utf8 git curl python-mecab > /dev/null\r\n",
        "!pip install mecab-python3 > /dev/null\r\n",
        "\r\n",
        "#Mecabの実行時の指定パスをインストールパスにリンクさせる\r\n",
        "#シンボリックリンク(/etc/mecab)\r\n",
        "!ln -s /etc/mecabrc /usr/local/etc/mecabrc\r\n",
        "#####################################ここのリンクがない"
      ],
      "execution_count": 1,
      "outputs": []
    },
    {
      "cell_type": "markdown",
      "metadata": {
        "id": "iq_sCrl4Bvaa"
      },
      "source": [
        "###まずMeCabのデフォルト辞書で文章を解析する"
      ]
    },
    {
      "cell_type": "code",
      "metadata": {
        "colab": {
          "base_uri": "https://localhost:8080/"
        },
        "id": "hOMT9-5rBA03",
        "outputId": "82ca7262-176d-4cf2-85ff-ad3f4e2b8744"
      },
      "source": [
        "\r\n",
        "import MeCab\r\n",
        "#\r\n",
        "tagger = MeCab.Tagger()\r\n",
        "#\r\n",
        "result = tagger.parse(\"メイが恋ダンスを踊っている。\")\r\n",
        "#\r\n",
        "print( result )"
      ],
      "execution_count": 2,
      "outputs": [
        {
          "output_type": "stream",
          "text": [
            "メイ\t名詞,一般,*,*,*,*,*\n",
            "が\t助詞,格助詞,一般,*,*,*,が,ガ,ガ\n",
            "恋\t名詞,一般,*,*,*,*,恋,コイ,コイ\n",
            "ダンス\t名詞,サ変接続,*,*,*,*,ダンス,ダンス,ダンス\n",
            "を\t助詞,格助詞,一般,*,*,*,を,ヲ,ヲ\n",
            "踊っ\t動詞,自立,*,*,五段・ラ行,連用タ接続,踊る,オドッ,オドッ\n",
            "て\t助詞,接続助詞,*,*,*,*,て,テ,テ\n",
            "いる\t動詞,非自立,*,*,一段,基本形,いる,イル,イル\n",
            "。\t記号,句点,*,*,*,*,。,。,。\n",
            "EOS\n",
            "\n"
          ],
          "name": "stdout"
        }
      ]
    },
    {
      "cell_type": "markdown",
      "metadata": {
        "id": "eldhRs0UB7HV"
      },
      "source": [
        "###最新の情報が入った辞書(ipaddic-neologd)で形態素解析"
      ]
    },
    {
      "cell_type": "code",
      "metadata": {
        "colab": {
          "base_uri": "https://localhost:8080/"
        },
        "id": "htG5wblkBDgf",
        "outputId": "d52a2bcd-ad25-44c7-94e6-3046d73a5bf5"
      },
      "source": [
        "#github上からipadic\r\n",
        "\r\n",
        "! git clone --depth 1 https://github.com/neologd/mecab-ipadic-neologd.git> /dev/null\r\n",
        "\r\n",
        "#\r\n",
        "!echo yes | mecab-ipadic-neologd/bin/install-mecab-ipadic-neologd -n > /dev/null 2>&1"
      ],
      "execution_count": 3,
      "outputs": [
        {
          "output_type": "stream",
          "text": [
            "Cloning into 'mecab-ipadic-neologd'...\n",
            "remote: Enumerating objects: 75, done.\u001b[K\n",
            "remote: Counting objects: 100% (75/75), done.\u001b[K\n",
            "remote: Compressing objects: 100% (74/74), done.\u001b[K\n",
            "remote: Total 75 (delta 5), reused 54 (delta 0), pack-reused 0\u001b[K\n",
            "Unpacking objects: 100% (75/75), done.\n"
          ],
          "name": "stdout"
        }
      ]
    },
    {
      "cell_type": "markdown",
      "metadata": {
        "id": "RVm8BGJ7CPY6"
      },
      "source": [
        "###辞書のインストール済みデイサービスを表示確認"
      ]
    },
    {
      "cell_type": "code",
      "metadata": {
        "colab": {
          "base_uri": "https://localhost:8080/"
        },
        "id": "_ECYJkv1BRc-",
        "outputId": "e9bbe418-1a94-42cf-a5dd-4561e8d93055"
      },
      "source": [
        "# \r\n",
        "#@のsift押していれる文字``　`mecab-config --dicdir`\r\n",
        "!echo `mecab-config --dicdir`\"/mecab-ipad-neologd\""
      ],
      "execution_count": 4,
      "outputs": [
        {
          "output_type": "stream",
          "text": [
            "/usr/lib/x86_64-linux-gnu/mecab/dic/mecab-ipad-neologd\n"
          ],
          "name": "stdout"
        }
      ]
    },
    {
      "cell_type": "markdown",
      "metadata": {
        "id": "4XQpmq9xCXAE"
      },
      "source": [
        "###辞書(ipaddic-neologd)の場所を指定してMeCabで形態素解析"
      ]
    },
    {
      "cell_type": "code",
      "metadata": {
        "colab": {
          "base_uri": "https://localhost:8080/"
        },
        "id": "IsGcWGssBV-K",
        "outputId": "762919eb-a848-4c8c-c96d-c0c000e76d67"
      },
      "source": [
        "import MeCab\r\n",
        "#mecab-ipad-neologd辞書を指定して、MeCabオブジェクトの生成\r\n",
        "path_neologd = \"/usr/lib/x86_64-linux-gnu/mecab/dic/mecab-ipadic-neologd\"\r\n",
        "tagger = MeCab.Tagger(\"-d\"+path_neologd)\r\n",
        "#オブジェクトインスタンス\r\n",
        "result = tagger.parse(\"メイが恋ダンスを踊っている。\")\r\n",
        "print(result)"
      ],
      "execution_count": 5,
      "outputs": [
        {
          "output_type": "stream",
          "text": [
            "メイ\t名詞,固有名詞,人名,一般,*,*,M.A.Y,メイ,メイ\n",
            "が\t助詞,格助詞,一般,*,*,*,が,ガ,ガ\n",
            "恋ダンス\t名詞,固有名詞,一般,*,*,*,恋ダンス,コイダンス,コイダンス\n",
            "を\t助詞,格助詞,一般,*,*,*,を,ヲ,ヲ\n",
            "踊っ\t動詞,自立,*,*,五段・ラ行,連用タ接続,踊る,オドッ,オドッ\n",
            "て\t助詞,接続助詞,*,*,*,*,て,テ,テ\n",
            "いる\t動詞,非自立,*,*,一段,基本形,いる,イル,イル\n",
            "。\t記号,句点,*,*,*,*,。,。,。\n",
            "EOS\n",
            "\n"
          ],
          "name": "stdout"
        }
      ]
    },
    {
      "cell_type": "markdown",
      "metadata": {
        "id": "zSMm9sjhClf2"
      },
      "source": [
        "###形態素解析結果を分析して名詞、動詞、形容詞だけをにき出すことでストップワードを除外する"
      ]
    },
    {
      "cell_type": "code",
      "metadata": {
        "colab": {
          "base_uri": "https://localhost:8080/"
        },
        "id": "soyF8C5zBZi5",
        "outputId": "37063c6b-7386-4a8c-ac17-95afa04a8285"
      },
      "source": [
        "import MeCab\r\n",
        "#mecab-ipad-neologd辞書を指定して、MeCabオブジェクトの生成\r\n",
        "path_neologd = \"/usr/lib/x86_64-linux-gnu/mecab/dic/mecab-ipadic-neologd\"\r\n",
        "tagger = MeCab.Tagger(\"-d\"+path_neologd)\r\n",
        "#形態素解析して、結果（リスト）を取得\r\n",
        "node = tagger.parseToNode(\"メイが恋ダンスを踊っている。\")\r\n",
        "print(node)\r\n",
        "\r\n",
        "result =[] #\r\n",
        "#\r\n",
        "while node is not None:\r\n",
        "  #\r\n",
        "  hinshi=node.feature.split(\",\")[0]\r\n",
        "  if hinshi in [\"名詞\"]:\r\n",
        "    #名詞だったら、\r\n",
        "    result.append(node.surface)\r\n",
        "  elif hinshi in [\"動詞\",\"形容詞\"]:\r\n",
        "    #\r\n",
        "    result.append(node.feature.split(\",\")[6])\r\n",
        "  #\r\n",
        "  node = node.next\r\n",
        "#\r\n",
        "print(result)"
      ],
      "execution_count": 6,
      "outputs": [
        {
          "output_type": "stream",
          "text": [
            "<Swig Object of type 'MeCab::Node *' at 0x7f689cb03d88>\n",
            "['メイ', '恋ダンス', '踊る', 'いる']\n"
          ],
          "name": "stdout"
        }
      ]
    }
  ]
}