{
  "nbformat": 4,
  "nbformat_minor": 0,
  "metadata": {
    "colab": {
      "name": "2020AI0401-lang-character.ipynb",
      "provenance": [],
      "authorship_tag": "ABX9TyMarlhQnToSmn8LO/jUdgNC",
      "include_colab_link": true
    },
    "kernelspec": {
      "name": "python3",
      "display_name": "Python 3"
    }
  },
  "cells": [
    {
      "cell_type": "markdown",
      "metadata": {
        "id": "view-in-github",
        "colab_type": "text"
      },
      "source": [
        "<a href=\"https://colab.research.google.com/github/aso1801028/AI_teach2020/blob/master/2020AI0401_lang_character.ipynb\" target=\"_parent\"><img src=\"https://colab.research.google.com/assets/colab-badge.svg\" alt=\"Open In Colab\"/></a>"
      ]
    },
    {
      "cell_type": "markdown",
      "metadata": {
        "id": "nxoSm2ljOakK"
      },
      "source": [
        ""
      ]
    },
    {
      "cell_type": "code",
      "metadata": {
        "id": "cFcG_c1YOFDi"
      },
      "source": [
        "import numpy as np\r\n",
        "from sklearn.naive_bayes import GaussianNB\r\n",
        "from sklearn.metrics import accuracy_score"
      ],
      "execution_count": 1,
      "outputs": []
    },
    {
      "cell_type": "markdown",
      "metadata": {
        "id": "0dM0C7FUOZnM"
      },
      "source": [
        "###文字コードも値をインデックスにした配列を作り、各コード値()"
      ]
    },
    {
      "cell_type": "code",
      "metadata": {
        "id": "uZkYm-DiPVYE"
      },
      "source": [
        "#Unicode文字列の文字コード値(コードポイント)頻度測定する関数\r\n",
        "def count_codePoint(str):\r\n",
        "  #Unicodeのコードポイント\r\n",
        "  counter = np.zeros(65535)\r\n",
        "  #\r\n",
        "  for i in range(len(str)):\r\n",
        "    #\r\n",
        "    code_point = ord(str[i])\r\n",
        "    #対応するアドレスの出現カウントをインクリメント\r\n",
        "    if code_point > 65535:\r\n",
        "      continue\r\n",
        "    #for end\r\n",
        "    #各要素を文字数で割って正規化（出現率、つまり％に変える）\r\n",
        "    counter[code_point] += 1\r\n",
        "  #\r\n",
        "  counter = counter/len(str)\r\n",
        "  return counter\r\n",
        "#関数手定義終わり\r\n"
      ],
      "execution_count": 2,
      "outputs": []
    },
    {
      "cell_type": "markdown",
      "metadata": {
        "id": "3fFgwlwCSVNy"
      },
      "source": [
        " ###学習データを作成する"
      ]
    },
    {
      "cell_type": "code",
      "metadata": {
        "id": "ByTEWLQ_RUGv"
      },
      "source": [
        "#学習用データの準備　\r\n",
        "ja_str = \"これは日本語の文章です。\"\r\n",
        "en_str = \"This is English Sentences.\"\r\n",
        "th_str = \"นี่เป็นประโยคภาษาไทย\"\r\n",
        "#\r\n",
        "x_train = [count_codePoint(ja_str), count_codePoint(en_str),count_codePoint(th_str)]\r\n",
        "#同じ順番で正解委となる目的変数（ラベル）を作る\r\n",
        "y_train = ['ja', 'en', 'th']"
      ],
      "execution_count": 3,
      "outputs": []
    },
    {
      "cell_type": "code",
      "metadata": {
        "id": "RJbQ1YXTWXiS",
        "colab": {
          "base_uri": "https://localhost:8080/"
        },
        "outputId": "24fda968-94b2-412f-ff41-2a32deac3518"
      },
      "source": [
        "clf = GaussianNB()\r\n",
        "clf.fit(x_train,y_train)"
      ],
      "execution_count": 4,
      "outputs": [
        {
          "output_type": "execute_result",
          "data": {
            "text/plain": [
              "GaussianNB(priors=None, var_smoothing=1e-09)"
            ]
          },
          "metadata": {
            "tags": []
          },
          "execution_count": 4
        }
      ]
    },
    {
      "cell_type": "code",
      "metadata": {
        "id": "f0tqsuOKWXU7"
      },
      "source": [
        "ja_test_str = \"こんにちは\"\r\n",
        "en_test_str = \"Hello\"\r\n",
        "th_test_str = \"สวัสดี\"\r\n",
        "\r\n",
        "#説明変数にする\r\n",
        "x_test = [count_codePoint(ja_test_str),count_codePoint(en_test_str),count_codePoint(th_test_str)]\r\n",
        "#\r\n",
        "y_test = ['ja','en','th']"
      ],
      "execution_count": 5,
      "outputs": []
    },
    {
      "cell_type": "markdown",
      "metadata": {
        "id": "9c2E3Ob6WpUc"
      },
      "source": [
        ""
      ]
    },
    {
      "cell_type": "code",
      "metadata": {
        "id": "yq0Xg9G8Wpx4",
        "colab": {
          "base_uri": "https://localhost:8080/"
        },
        "outputId": "dceb9789-4ef1-4ba8-b8d6-a8dd90e7d480"
      },
      "source": [
        "#推論する\r\n",
        "y_pred = clf.predict(x_test)\r\n",
        "print(\"1つ目の文章の言語は\",y_pred[0],\"です\")\r\n",
        "print(\"2つ目の文章の言語は\",y_pred[1],\"です\")\r\n",
        "print(\"3つ目の文章の言語は\",y_pred[2],\"です\")\r\n",
        "print(\"正解率 = \", accuracy_score( y_test, y_pred ))"
      ],
      "execution_count": 6,
      "outputs": [
        {
          "output_type": "stream",
          "text": [
            "1つ目の文章の言語は ja です\n",
            "2つ目の文章の言語は en です\n",
            "3つ目の文章の言語は th です\n",
            "正解率 =  1.0\n"
          ],
          "name": "stdout"
        }
      ]
    },
    {
      "cell_type": "markdown",
      "metadata": {
        "id": "lpirqg-a4ySg"
      },
      "source": [
        "###サンプルデータとして使うWikipedia"
      ]
    },
    {
      "cell_type": "code",
      "metadata": {
        "colab": {
          "base_uri": "https://localhost:8080/"
        },
        "id": "1adInQl14y-p",
        "outputId": "8f19b380-80cf-4ae8-eb60-996f6710887a"
      },
      "source": [
        "import urllib.request as req\r\n",
        "#学習データ用生地\r\n",
        "url = \"https://github.com/masatokg/sample_photo/raw/master/train.zip\"\r\n",
        "save_file = \"train.zip\"\r\n",
        "req.urlretrieve(url,save_file)\r\n",
        "# テスト検証用データ記事\r\n",
        "url = \"https://github.com/masatokg/sample_photo/raw/master/test.zip\"\r\n",
        "save_file = \"test.zip\"\r\n",
        "req.urlretrieve( url, save_file )\r\n",
        "\r\n",
        "#unzip(解凍する)\r\n",
        "!unzip -o -q \"./train.zip\"\r\n",
        "print(\"train.zip解凍\")\r\n",
        "!unzip -o -q \"./test.zip\"\r\n",
        "print(\"test.zip解凍\")"
      ],
      "execution_count": 7,
      "outputs": [
        {
          "output_type": "stream",
          "text": [
            "train.zip解凍\n",
            "test.zip解凍\n"
          ],
          "name": "stdout"
        }
      ]
    },
    {
      "cell_type": "markdown",
      "metadata": {
        "id": "4dvprK0j6SlZ"
      },
      "source": [
        "###ダウンロードしたテキストファイルのうち、学習"
      ]
    },
    {
      "cell_type": "code",
      "metadata": {
        "colab": {
          "base_uri": "https://localhost:8080/"
        },
        "id": "AAsrRaik6g0S",
        "outputId": "6d3bb97f-710e-4fc7-ae83-3ff16b4ae428"
      },
      "source": [
        "import glob\r\n",
        "\r\n",
        "#学習データの準備\r\n",
        "index = 0\r\n",
        "x_train = []#\r\n",
        "y_train = []#\r\n",
        "for file in glob.glob( \"./train/*.txt\" ):#\r\n",
        "  #\r\n",
        "  y_train.append(file[8:10])\r\n",
        "  print(\"ファイルパスの一部をラベルにする\",file, \"=\" , file[8:10])\r\n",
        "  print(y_train)\r\n",
        "\r\n",
        "  #ファイル内の文字を連結後、コーポイント頻度を測定し\r\n",
        "  file_str = \"\"\r\n",
        "  #\r\n",
        "  for line in open(file,'r'):\r\n",
        "    file_str = (file_str+line)\r\n",
        "  #\r\n",
        "  x_train.append(count_codePoint(file_str))\r\n",
        "#\r\n",
        "print(x_train)"
      ],
      "execution_count": 8,
      "outputs": [
        {
          "output_type": "stream",
          "text": [
            "ファイルパスの一部をラベルにする ./train/en_elephant.txt = en\n",
            "['en']\n",
            "ファイルパスの一部をラベルにする ./train/de_dog.txt = de\n",
            "['en', 'de']\n",
            "ファイルパスの一部をラベルにする ./train/es_elephant.txt = es\n",
            "['en', 'de', 'es']\n",
            "ファイルパスの一部をラベルにする ./train/de_elephant.txt = de\n",
            "['en', 'de', 'es', 'de']\n",
            "ファイルパスの一部をラベルにする ./train/en_cat.txt = en\n",
            "['en', 'de', 'es', 'de', 'en']\n",
            "ファイルパスの一部をラベルにする ./train/de_cat.txt = de\n",
            "['en', 'de', 'es', 'de', 'en', 'de']\n",
            "ファイルパスの一部をラベルにする ./train/es_dog.txt = es\n",
            "['en', 'de', 'es', 'de', 'en', 'de', 'es']\n",
            "ファイルパスの一部をラベルにする ./train/en_dog.txt = en\n",
            "['en', 'de', 'es', 'de', 'en', 'de', 'es', 'en']\n",
            "ファイルパスの一部をラベルにする ./train/es_cat.txt = es\n",
            "['en', 'de', 'es', 'de', 'en', 'de', 'es', 'en', 'es']\n",
            "[array([0., 0., 0., ..., 0., 0., 0.]), array([0., 0., 0., ..., 0., 0., 0.]), array([0., 0., 0., ..., 0., 0., 0.]), array([0., 0., 0., ..., 0., 0., 0.]), array([0., 0., 0., ..., 0., 0., 0.]), array([0., 0., 0., ..., 0., 0., 0.]), array([0., 0., 0., ..., 0., 0., 0.]), array([0., 0., 0., ..., 0., 0., 0.]), array([0., 0., 0., ..., 0., 0., 0.])]\n"
          ],
          "name": "stdout"
        }
      ]
    },
    {
      "cell_type": "markdown",
      "metadata": {
        "id": "Qor9cZZY9KNt"
      },
      "source": [
        "###作成した"
      ]
    },
    {
      "cell_type": "code",
      "metadata": {
        "colab": {
          "base_uri": "https://localhost:8080/"
        },
        "id": "Ec2O6W_V7r1-",
        "outputId": "7db32ef6-8cf0-4cf2-89d6-b0eadb2effb9"
      },
      "source": [
        "#\r\n",
        "clf = GaussianNB()\r\n",
        "#\r\n",
        "clf.fit(x_train, y_train)"
      ],
      "execution_count": 9,
      "outputs": [
        {
          "output_type": "execute_result",
          "data": {
            "text/plain": [
              "GaussianNB(priors=None, var_smoothing=1e-09)"
            ]
          },
          "metadata": {
            "tags": []
          },
          "execution_count": 9
        }
      ]
    },
    {
      "cell_type": "markdown",
      "metadata": {
        "id": "7KR-ergSHlqV"
      },
      "source": [
        "###"
      ]
    },
    {
      "cell_type": "code",
      "metadata": {
        "id": "aQzm1jNTHmpM"
      },
      "source": [
        "#\r\n",
        "index = 0\r\n",
        "x_test = []#\r\n",
        "y_test = []#\r\n",
        "#\r\n",
        "for file in glob.glob(\"./text/*.txt\"):\r\n",
        "  #\r\n",
        "  y_test.append(file[7:9])\r\n",
        "  print(\"ファイルパスの一部をラベルにする:\",file, \"=\", file[7:9])\r\n",
        "\r\n",
        "  #\r\n",
        "  file_str = \"\"\r\n",
        "  #\r\n",
        "  for line in open(file,'r'):\r\n",
        "    file_str = file_str + line\r\n",
        "  #\r\n",
        "  #\r\n",
        "  x_test.append(count_codePoint( file_str ))\r\n",
        "  print(file_str[0])\r\n",
        "  print(x_test[0])\r\n",
        "#"
      ],
      "execution_count": 10,
      "outputs": []
    },
    {
      "cell_type": "markdown",
      "metadata": {
        "id": "YjUysLnAJn4s"
      },
      "source": [
        ""
      ]
    },
    {
      "cell_type": "code",
      "metadata": {
        "id": "VPJplbTaJoyw",
        "colab": {
          "base_uri": "https://localhost:8080/",
          "height": 449
        },
        "outputId": "eca3c50e-fd32-4f84-b469-76a7946cdd34"
      },
      "source": [
        "#推論する\r\n",
        "y_pred = clf.predict( x_test )\r\n",
        "print(y_pred)#推論結果を表示\r\n",
        "#評価する\r\n",
        "print(\"正解率＝\", accuracy_score(y_test,y_pred))"
      ],
      "execution_count": 11,
      "outputs": [
        {
          "output_type": "error",
          "ename": "ValueError",
          "evalue": "ignored",
          "traceback": [
            "\u001b[0;31m---------------------------------------------------------------------------\u001b[0m",
            "\u001b[0;31mValueError\u001b[0m                                Traceback (most recent call last)",
            "\u001b[0;32m<ipython-input-11-d07664ad0eef>\u001b[0m in \u001b[0;36m<module>\u001b[0;34m()\u001b[0m\n\u001b[1;32m      1\u001b[0m \u001b[0;31m#推論する\u001b[0m\u001b[0;34m\u001b[0m\u001b[0;34m\u001b[0m\u001b[0;34m\u001b[0m\u001b[0m\n\u001b[0;32m----> 2\u001b[0;31m \u001b[0my_pred\u001b[0m \u001b[0;34m=\u001b[0m \u001b[0mclf\u001b[0m\u001b[0;34m.\u001b[0m\u001b[0mpredict\u001b[0m\u001b[0;34m(\u001b[0m \u001b[0mx_test\u001b[0m \u001b[0;34m)\u001b[0m\u001b[0;34m\u001b[0m\u001b[0;34m\u001b[0m\u001b[0m\n\u001b[0m\u001b[1;32m      3\u001b[0m \u001b[0mprint\u001b[0m\u001b[0;34m(\u001b[0m\u001b[0my_pred\u001b[0m\u001b[0;34m)\u001b[0m\u001b[0;31m#推論結果を表示\u001b[0m\u001b[0;34m\u001b[0m\u001b[0;34m\u001b[0m\u001b[0m\n\u001b[1;32m      4\u001b[0m \u001b[0;31m#評価する\u001b[0m\u001b[0;34m\u001b[0m\u001b[0;34m\u001b[0m\u001b[0;34m\u001b[0m\u001b[0m\n\u001b[1;32m      5\u001b[0m \u001b[0mprint\u001b[0m\u001b[0;34m(\u001b[0m\u001b[0;34m\"正解率＝\"\u001b[0m\u001b[0;34m,\u001b[0m \u001b[0maccuracy_score\u001b[0m\u001b[0;34m(\u001b[0m\u001b[0my_test\u001b[0m\u001b[0;34m,\u001b[0m\u001b[0my_pred\u001b[0m\u001b[0;34m)\u001b[0m\u001b[0;34m)\u001b[0m\u001b[0;34m\u001b[0m\u001b[0;34m\u001b[0m\u001b[0m\n",
            "\u001b[0;32m/usr/local/lib/python3.6/dist-packages/sklearn/naive_bayes.py\u001b[0m in \u001b[0;36mpredict\u001b[0;34m(self, X)\u001b[0m\n\u001b[1;32m     74\u001b[0m         \"\"\"\n\u001b[1;32m     75\u001b[0m         \u001b[0mcheck_is_fitted\u001b[0m\u001b[0;34m(\u001b[0m\u001b[0mself\u001b[0m\u001b[0;34m)\u001b[0m\u001b[0;34m\u001b[0m\u001b[0;34m\u001b[0m\u001b[0m\n\u001b[0;32m---> 76\u001b[0;31m         \u001b[0mX\u001b[0m \u001b[0;34m=\u001b[0m \u001b[0mself\u001b[0m\u001b[0;34m.\u001b[0m\u001b[0m_check_X\u001b[0m\u001b[0;34m(\u001b[0m\u001b[0mX\u001b[0m\u001b[0;34m)\u001b[0m\u001b[0;34m\u001b[0m\u001b[0;34m\u001b[0m\u001b[0m\n\u001b[0m\u001b[1;32m     77\u001b[0m         \u001b[0mjll\u001b[0m \u001b[0;34m=\u001b[0m \u001b[0mself\u001b[0m\u001b[0;34m.\u001b[0m\u001b[0m_joint_log_likelihood\u001b[0m\u001b[0;34m(\u001b[0m\u001b[0mX\u001b[0m\u001b[0;34m)\u001b[0m\u001b[0;34m\u001b[0m\u001b[0;34m\u001b[0m\u001b[0m\n\u001b[1;32m     78\u001b[0m         \u001b[0;32mreturn\u001b[0m \u001b[0mself\u001b[0m\u001b[0;34m.\u001b[0m\u001b[0mclasses_\u001b[0m\u001b[0;34m[\u001b[0m\u001b[0mnp\u001b[0m\u001b[0;34m.\u001b[0m\u001b[0margmax\u001b[0m\u001b[0;34m(\u001b[0m\u001b[0mjll\u001b[0m\u001b[0;34m,\u001b[0m \u001b[0maxis\u001b[0m\u001b[0;34m=\u001b[0m\u001b[0;36m1\u001b[0m\u001b[0;34m)\u001b[0m\u001b[0;34m]\u001b[0m\u001b[0;34m\u001b[0m\u001b[0;34m\u001b[0m\u001b[0m\n",
            "\u001b[0;32m/usr/local/lib/python3.6/dist-packages/sklearn/naive_bayes.py\u001b[0m in \u001b[0;36m_check_X\u001b[0;34m(self, X)\u001b[0m\n\u001b[1;32m    209\u001b[0m \u001b[0;34m\u001b[0m\u001b[0m\n\u001b[1;32m    210\u001b[0m     \u001b[0;32mdef\u001b[0m \u001b[0m_check_X\u001b[0m\u001b[0;34m(\u001b[0m\u001b[0mself\u001b[0m\u001b[0;34m,\u001b[0m \u001b[0mX\u001b[0m\u001b[0;34m)\u001b[0m\u001b[0;34m:\u001b[0m\u001b[0;34m\u001b[0m\u001b[0;34m\u001b[0m\u001b[0m\n\u001b[0;32m--> 211\u001b[0;31m         \u001b[0;32mreturn\u001b[0m \u001b[0mcheck_array\u001b[0m\u001b[0;34m(\u001b[0m\u001b[0mX\u001b[0m\u001b[0;34m)\u001b[0m\u001b[0;34m\u001b[0m\u001b[0;34m\u001b[0m\u001b[0m\n\u001b[0m\u001b[1;32m    212\u001b[0m \u001b[0;34m\u001b[0m\u001b[0m\n\u001b[1;32m    213\u001b[0m     \u001b[0;34m@\u001b[0m\u001b[0mstaticmethod\u001b[0m\u001b[0;34m\u001b[0m\u001b[0;34m\u001b[0m\u001b[0m\n",
            "\u001b[0;32m/usr/local/lib/python3.6/dist-packages/sklearn/utils/validation.py\u001b[0m in \u001b[0;36mcheck_array\u001b[0;34m(array, accept_sparse, accept_large_sparse, dtype, order, copy, force_all_finite, ensure_2d, allow_nd, ensure_min_samples, ensure_min_features, warn_on_dtype, estimator)\u001b[0m\n\u001b[1;32m    554\u001b[0m                     \u001b[0;34m\"Reshape your data either using array.reshape(-1, 1) if \"\u001b[0m\u001b[0;34m\u001b[0m\u001b[0;34m\u001b[0m\u001b[0m\n\u001b[1;32m    555\u001b[0m                     \u001b[0;34m\"your data has a single feature or array.reshape(1, -1) \"\u001b[0m\u001b[0;34m\u001b[0m\u001b[0;34m\u001b[0m\u001b[0m\n\u001b[0;32m--> 556\u001b[0;31m                     \"if it contains a single sample.\".format(array))\n\u001b[0m\u001b[1;32m    557\u001b[0m \u001b[0;34m\u001b[0m\u001b[0m\n\u001b[1;32m    558\u001b[0m         \u001b[0;31m# in the future np.flexible dtypes will be handled like object dtypes\u001b[0m\u001b[0;34m\u001b[0m\u001b[0;34m\u001b[0m\u001b[0;34m\u001b[0m\u001b[0m\n",
            "\u001b[0;31mValueError\u001b[0m: Expected 2D array, got 1D array instead:\narray=[].\nReshape your data either using array.reshape(-1, 1) if your data has a single feature or array.reshape(1, -1) if it contains a single sample."
          ]
        }
      ]
    },
    {
      "cell_type": "code",
      "metadata": {
        "id": "KasqompqKBlS"
      },
      "source": [
        ""
      ],
      "execution_count": null,
      "outputs": []
    }
  ]
}