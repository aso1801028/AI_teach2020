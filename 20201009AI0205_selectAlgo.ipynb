{
  "nbformat": 4,
  "nbformat_minor": 0,
  "metadata": {
    "colab": {
      "name": "20201009AI0205-selectAlgo.ipynb",
      "provenance": [],
      "collapsed_sections": [],
      "authorship_tag": "ABX9TyMvYbmRAu40Y1kf4TM1VrJe",
      "include_colab_link": true
    },
    "kernelspec": {
      "name": "python3",
      "display_name": "Python 3"
    }
  },
  "cells": [
    {
      "cell_type": "markdown",
      "metadata": {
        "id": "view-in-github",
        "colab_type": "text"
      },
      "source": [
        "<a href=\"https://colab.research.google.com/github/aso1801028/AI_teach2020/blob/master/20201009AI0205_selectAlgo.ipynb\" target=\"_parent\"><img src=\"https://colab.research.google.com/assets/colab-badge.svg\" alt=\"Open In Colab\"/></a>"
      ]
    },
    {
      "cell_type": "code",
      "metadata": {
        "id": "u7gtwBZUeW5Q"
      },
      "source": [
        "import pandas as pd\n",
        "from sklearn.model_selection import train_test_split\n",
        "from sklearn.metrics import accuracy_score\n",
        "from sklearn.utils.testing import all_estimators\n",
        "import warnings\n",
        "from sklearn.svm import SVC"
      ],
      "execution_count": null,
      "outputs": []
    },
    {
      "cell_type": "code",
      "metadata": {
        "id": "DWWEw_tIee8w"
      },
      "source": [
        "#!pip uninstall scikit-learn\n",
        "#!pip install scikit-learn==0.20 --igore-installed"
      ],
      "execution_count": null,
      "outputs": []
    },
    {
      "cell_type": "code",
      "metadata": {
        "id": "_UsVpZbMeskJ",
        "outputId": "e9ed979b-cfa4-44a3-d184-c1ffc3a5d4d9",
        "colab": {
          "base_uri": "https://localhost:8080/",
          "height": 204
        }
      },
      "source": [
        "import urllib.request as req\n",
        "url = \"https://raw.githubusercontent.com/pandas-dev/pandas/master/pandas/tests/io/data/csv/iris.csv\"\n",
        "savefile = \"iris.csv\"\n",
        "req.urlretrieve(url,savefile)\n",
        "iris_data = pd.read_csv(savefile, encoding=\"utf-8\")\n",
        "iris_data.head()"
      ],
      "execution_count": null,
      "outputs": [
        {
          "output_type": "execute_result",
          "data": {
            "text/html": [
              "<div>\n",
              "<style scoped>\n",
              "    .dataframe tbody tr th:only-of-type {\n",
              "        vertical-align: middle;\n",
              "    }\n",
              "\n",
              "    .dataframe tbody tr th {\n",
              "        vertical-align: top;\n",
              "    }\n",
              "\n",
              "    .dataframe thead th {\n",
              "        text-align: right;\n",
              "    }\n",
              "</style>\n",
              "<table border=\"1\" class=\"dataframe\">\n",
              "  <thead>\n",
              "    <tr style=\"text-align: right;\">\n",
              "      <th></th>\n",
              "      <th>SepalLength</th>\n",
              "      <th>SepalWidth</th>\n",
              "      <th>PetalLength</th>\n",
              "      <th>PetalWidth</th>\n",
              "      <th>Name</th>\n",
              "    </tr>\n",
              "  </thead>\n",
              "  <tbody>\n",
              "    <tr>\n",
              "      <th>0</th>\n",
              "      <td>5.1</td>\n",
              "      <td>3.5</td>\n",
              "      <td>1.4</td>\n",
              "      <td>0.2</td>\n",
              "      <td>Iris-setosa</td>\n",
              "    </tr>\n",
              "    <tr>\n",
              "      <th>1</th>\n",
              "      <td>4.9</td>\n",
              "      <td>3.0</td>\n",
              "      <td>1.4</td>\n",
              "      <td>0.2</td>\n",
              "      <td>Iris-setosa</td>\n",
              "    </tr>\n",
              "    <tr>\n",
              "      <th>2</th>\n",
              "      <td>4.7</td>\n",
              "      <td>3.2</td>\n",
              "      <td>1.3</td>\n",
              "      <td>0.2</td>\n",
              "      <td>Iris-setosa</td>\n",
              "    </tr>\n",
              "    <tr>\n",
              "      <th>3</th>\n",
              "      <td>4.6</td>\n",
              "      <td>3.1</td>\n",
              "      <td>1.5</td>\n",
              "      <td>0.2</td>\n",
              "      <td>Iris-setosa</td>\n",
              "    </tr>\n",
              "    <tr>\n",
              "      <th>4</th>\n",
              "      <td>5.0</td>\n",
              "      <td>3.6</td>\n",
              "      <td>1.4</td>\n",
              "      <td>0.2</td>\n",
              "      <td>Iris-setosa</td>\n",
              "    </tr>\n",
              "  </tbody>\n",
              "</table>\n",
              "</div>"
            ],
            "text/plain": [
              "   SepalLength  SepalWidth  PetalLength  PetalWidth         Name\n",
              "0          5.1         3.5          1.4         0.2  Iris-setosa\n",
              "1          4.9         3.0          1.4         0.2  Iris-setosa\n",
              "2          4.7         3.2          1.3         0.2  Iris-setosa\n",
              "3          4.6         3.1          1.5         0.2  Iris-setosa\n",
              "4          5.0         3.6          1.4         0.2  Iris-setosa"
            ]
          },
          "metadata": {
            "tags": []
          },
          "execution_count": 22
        }
      ]
    },
    {
      "cell_type": "code",
      "metadata": {
        "id": "Kv7xAGi6ew3w",
        "outputId": "148d3f5d-22fd-4127-e613-4eb9d9d80d7e",
        "colab": {
          "base_uri": "https://localhost:8080/"
        }
      },
      "source": [
        "y=iris_data.loc[:,\"Name\"]\n",
        "x=iris_data.loc[:,[\"SepalLength\",\"SepalWidth\",\"PetalLength\",\"PetalWidth\"]]\n",
        "print(y.head())\n",
        "print(x.head())"
      ],
      "execution_count": null,
      "outputs": [
        {
          "output_type": "stream",
          "text": [
            "0    Iris-setosa\n",
            "1    Iris-setosa\n",
            "2    Iris-setosa\n",
            "3    Iris-setosa\n",
            "4    Iris-setosa\n",
            "Name: Name, dtype: object\n",
            "   SepalLength  SepalWidth  PetalLength  PetalWidth\n",
            "0          5.1         3.5          1.4         0.2\n",
            "1          4.9         3.0          1.4         0.2\n",
            "2          4.7         3.2          1.3         0.2\n",
            "3          4.6         3.1          1.5         0.2\n",
            "4          5.0         3.6          1.4         0.2\n"
          ],
          "name": "stdout"
        }
      ]
    },
    {
      "cell_type": "code",
      "metadata": {
        "id": "frxIB1ZFez0S",
        "outputId": "50b6d306-a3e5-4f0c-9095-a8dd70b7e509",
        "colab": {
          "base_uri": "https://localhost:8080/"
        }
      },
      "source": [
        "x_train, x_test, y_train, y_test= train_test_split(x,y, test_size=0.2, train_size=0.8, shuffle=True)\n",
        "print(x_train.head())\n",
        "print(y_train.head())\n",
        "print(x_test.head())\n",
        "print(y_test.head())"
      ],
      "execution_count": null,
      "outputs": [
        {
          "output_type": "stream",
          "text": [
            "     SepalLength  SepalWidth  PetalLength  PetalWidth\n",
            "41           4.5         2.3          1.3         0.3\n",
            "65           6.7         3.1          4.4         1.4\n",
            "143          6.8         3.2          5.9         2.3\n",
            "131          7.9         3.8          6.4         2.0\n",
            "147          6.5         3.0          5.2         2.0\n",
            "41         Iris-setosa\n",
            "65     Iris-versicolor\n",
            "143     Iris-virginica\n",
            "131     Iris-virginica\n",
            "147     Iris-virginica\n",
            "Name: Name, dtype: object\n",
            "     SepalLength  SepalWidth  PetalLength  PetalWidth\n",
            "3            4.6         3.1          1.5         0.2\n",
            "117          7.7         3.8          6.7         2.2\n",
            "109          7.2         3.6          6.1         2.5\n",
            "106          4.9         2.5          4.5         1.7\n",
            "28           5.2         3.4          1.4         0.2\n",
            "3         Iris-setosa\n",
            "117    Iris-virginica\n",
            "109    Iris-virginica\n",
            "106    Iris-virginica\n",
            "28        Iris-setosa\n",
            "Name: Name, dtype: object\n"
          ],
          "name": "stdout"
        }
      ]
    },
    {
      "cell_type": "code",
      "metadata": {
        "id": "zg4ShVA7e1X9"
      },
      "source": [
        "allAlgorithms = all_estimators(type_filter=\"classifier\")\n",
        "warnings.filterwarnings('ignore')"
      ],
      "execution_count": null,
      "outputs": []
    },
    {
      "cell_type": "code",
      "metadata": {
        "id": "ajPTnyL2e5LA",
        "outputId": "035fe332-82bb-420d-e96a-50d6067a0fee",
        "colab": {
          "base_uri": "https://localhost:8080/"
        }
      },
      "source": [
        "for (name,algorithm) in allAlgorithms:\n",
        "\n",
        "  try:\n",
        "    clf = algorithm()\n",
        "    clf.fit(x_train, y_train)\n",
        "    y_pred = clf.predict(x_test)\n",
        "    print(name,\"の正解率\",accuracy_score(y_test,y_pred))\n",
        "\n",
        "\n",
        "  except:\n",
        "    print(\"エラー\")\n",
        "  #except Exception as e:\n",
        "    #print(\"\\033[31m\", \"Error: \\033[0m\", name, \":\", e.args)\n",
        "    \n",
        "  #else:\n",
        "    #print(\"正常系です\")\n",
        "    #pass"
      ],
      "execution_count": null,
      "outputs": [
        {
          "output_type": "stream",
          "text": [
            "AdaBoostClassifier の正解率 0.9333333333333333\n",
            "BaggingClassifier の正解率 0.9333333333333333\n",
            "BernoulliNB の正解率 0.23333333333333334\n",
            "CalibratedClassifierCV の正解率 0.9666666666666667\n",
            "CategoricalNB の正解率 0.9\n",
            "エラー\n",
            "エラー\n",
            "ComplementNB の正解率 0.7666666666666667\n",
            "DecisionTreeClassifier の正解率 0.9333333333333333\n",
            "DummyClassifier の正解率 0.36666666666666664\n",
            "ExtraTreeClassifier の正解率 0.9333333333333333\n",
            "ExtraTreesClassifier の正解率 0.9333333333333333\n",
            "GaussianNB の正解率 0.9333333333333333\n",
            "GaussianProcessClassifier の正解率 0.9666666666666667\n",
            "GradientBoostingClassifier の正解率 0.9333333333333333\n",
            "HistGradientBoostingClassifier の正解率 0.9333333333333333\n",
            "KNeighborsClassifier の正解率 0.9333333333333333\n",
            "LabelPropagation の正解率 0.9333333333333333\n",
            "LabelSpreading の正解率 0.9333333333333333\n",
            "LinearDiscriminantAnalysis の正解率 0.9666666666666667\n",
            "LinearSVC の正解率 0.9666666666666667\n",
            "LogisticRegression の正解率 0.9333333333333333\n",
            "LogisticRegressionCV の正解率 0.9666666666666667\n",
            "MLPClassifier の正解率 0.9666666666666667\n",
            "エラー\n",
            "MultinomialNB の正解率 0.8\n",
            "NearestCentroid の正解率 0.9\n",
            "NuSVC の正解率 0.9333333333333333\n",
            "エラー\n",
            "エラー\n",
            "エラー\n",
            "PassiveAggressiveClassifier の正解率 0.7666666666666667\n",
            "Perceptron の正解率 0.8\n",
            "QuadraticDiscriminantAnalysis の正解率 0.9666666666666667\n",
            "RadiusNeighborsClassifier の正解率 0.9\n",
            "RandomForestClassifier の正解率 0.9333333333333333\n",
            "RidgeClassifier の正解率 0.9\n",
            "RidgeClassifierCV の正解率 0.9\n",
            "SGDClassifier の正解率 0.7666666666666667\n",
            "SVC の正解率 0.9666666666666667\n",
            "エラー\n",
            "エラー\n"
          ],
          "name": "stdout"
        }
      ]
    },
    {
      "cell_type": "code",
      "metadata": {
        "id": "QiuTK0UPgCQW"
      },
      "source": [
        "from sklearn.model_selection import KFold\n",
        "from sklearn.model_selection import cross_val_score"
      ],
      "execution_count": null,
      "outputs": []
    },
    {
      "cell_type": "code",
      "metadata": {
        "id": "GCyrK17zTKL_",
        "outputId": "dc1f209e-42e8-4596-9188-e0c87018e314",
        "colab": {
          "base_uri": "https://localhost:8080/"
        }
      },
      "source": [
        "kfold_cv = KFold(n_splits=5, shuffle=True)\n",
        "for(name,algorithm)in allAlgorithms:\n",
        "  try:\n",
        "    clf = algorithm()\n",
        "    if hasattr(clf,\"score\"):\n",
        "      scores = cross_val_score(clf, x, y, cv=kfold_cv)\n",
        "      print(name,\"の正解率=\")\n",
        "      print(scores)\n",
        "  except:\n",
        "    pass"
      ],
      "execution_count": null,
      "outputs": [
        {
          "output_type": "stream",
          "text": [
            "AdaBoostClassifier の正解率=\n",
            "[0.93333333 0.96666667 0.86666667 0.96666667 0.9       ]\n",
            "BaggingClassifier の正解率=\n",
            "[0.9        0.96666667 0.96666667 0.96666667 0.96666667]\n",
            "BernoulliNB の正解率=\n",
            "[0.23333333 0.3        0.16666667 0.23333333 0.16666667]\n",
            "CalibratedClassifierCV の正解率=\n",
            "[0.93333333 0.93333333 0.83333333 0.86666667 1.        ]\n",
            "CategoricalNB の正解率=\n",
            "[0.96666667 0.86666667 0.93333333 0.96666667 0.9       ]\n",
            "CheckingClassifier の正解率=\n",
            "[nan nan nan nan nan]\n",
            "ComplementNB の正解率=\n",
            "[0.7        0.56666667 0.66666667 0.66666667 0.73333333]\n",
            "DecisionTreeClassifier の正解率=\n",
            "[0.93333333 1.         0.93333333 0.93333333 1.        ]\n",
            "DummyClassifier の正解率=\n",
            "[0.26666667 0.26666667 0.46666667 0.3        0.36666667]\n",
            "ExtraTreeClassifier の正解率=\n",
            "[0.93333333 1.         0.86666667 0.96666667 0.93333333]\n",
            "ExtraTreesClassifier の正解率=\n",
            "[1.         0.9        1.         0.9        0.93333333]\n",
            "GaussianNB の正解率=\n",
            "[0.96666667 0.93333333 0.93333333 0.96666667 0.96666667]\n",
            "GaussianProcessClassifier の正解率=\n",
            "[0.93333333 0.96666667 0.96666667 0.93333333 1.        ]\n",
            "GradientBoostingClassifier の正解率=\n",
            "[0.96666667 0.9        0.93333333 0.96666667 1.        ]\n",
            "HistGradientBoostingClassifier の正解率=\n",
            "[0.96666667 0.93333333 1.         0.93333333 0.86666667]\n",
            "KNeighborsClassifier の正解率=\n",
            "[0.93333333 0.96666667 0.93333333 0.93333333 0.96666667]\n",
            "LabelPropagation の正解率=\n",
            "[0.96666667 1.         0.96666667 1.         0.86666667]\n",
            "LabelSpreading の正解率=\n",
            "[0.96666667 0.96666667 1.         0.93333333 0.96666667]\n",
            "LinearDiscriminantAnalysis の正解率=\n",
            "[0.93333333 1.         1.         0.96666667 1.        ]\n",
            "LinearSVC の正解率=\n",
            "[1.         0.96666667 0.9        0.96666667 0.96666667]\n",
            "LogisticRegression の正解率=\n",
            "[0.96666667 0.96666667 0.93333333 0.96666667 1.        ]\n",
            "LogisticRegressionCV の正解率=\n",
            "[0.93333333 1.         1.         0.93333333 0.96666667]\n",
            "MLPClassifier の正解率=\n",
            "[1.         0.96666667 1.         0.93333333 0.96666667]\n",
            "MultinomialNB の正解率=\n",
            "[1.         0.96666667 0.6        0.73333333 0.93333333]\n",
            "NearestCentroid の正解率=\n",
            "[0.96666667 0.9        0.96666667 0.93333333 0.86666667]\n",
            "NuSVC の正解率=\n",
            "[0.93333333 0.93333333 1.         0.96666667 0.96666667]\n",
            "PassiveAggressiveClassifier の正解率=\n",
            "[0.5        1.         0.93333333 0.8        0.86666667]\n",
            "Perceptron の正解率=\n",
            "[0.86666667 0.83333333 0.23333333 0.96666667 0.76666667]\n",
            "QuadraticDiscriminantAnalysis の正解率=\n",
            "[0.93333333 1.         0.93333333 1.         1.        ]\n",
            "RadiusNeighborsClassifier の正解率=\n",
            "[0.96666667 0.96666667 0.96666667 0.93333333 0.93333333]\n",
            "RandomForestClassifier の正解率=\n",
            "[1.         0.96666667 1.         0.86666667 0.86666667]\n",
            "RidgeClassifier の正解率=\n",
            "[0.76666667 0.7        0.9        0.76666667 0.9       ]\n",
            "RidgeClassifierCV の正解率=\n",
            "[0.83333333 0.8        0.86666667 0.76666667 0.9       ]\n",
            "SGDClassifier の正解率=\n",
            "[0.8        0.66666667 0.56666667 0.93333333 0.56666667]\n",
            "SVC の正解率=\n",
            "[0.96666667 1.         0.93333333 1.         0.93333333]\n"
          ],
          "name": "stdout"
        }
      ]
    },
    {
      "cell_type": "code",
      "metadata": {
        "id": "tG8oflk-UVnX"
      },
      "source": [
        "from sklearn.model_selection import cross_validate"
      ],
      "execution_count": null,
      "outputs": []
    },
    {
      "cell_type": "code",
      "metadata": {
        "id": "vTIemQ0sVQQq",
        "outputId": "574d63cf-a69b-498f-8ca5-ebfca8d5f171",
        "colab": {
          "base_uri": "https://localhost:8080/"
        }
      },
      "source": [
        "kfold_cv = KFold(n_splits=5, shuffle=True)\n",
        "for(name,algorithm)in allAlgorithms:\n",
        "  try:\n",
        "    clf = algorithm()\n",
        "    if hasattr(clf,\"score\"):\n",
        "      scores = cross_validate(clf, x, y, cv=kfold_cv)\n",
        "      print(name,\"の正解率=\")\n",
        "      print(scores)\n",
        "  except:\n",
        "    pass"
      ],
      "execution_count": null,
      "outputs": [
        {
          "output_type": "stream",
          "text": [
            "AdaBoostClassifier の正解率=\n",
            "{'fit_time': array([0.07848883, 0.06727052, 0.06782603, 0.06746626, 0.07652402]), 'score_time': array([0.00787568, 0.00687528, 0.0067966 , 0.00692248, 0.00697947]), 'test_score': array([0.93333333, 1.        , 0.96666667, 0.86666667, 0.9       ])}\n",
            "BaggingClassifier の正解率=\n",
            "{'fit_time': array([0.01583862, 0.01429176, 0.01420927, 0.01517153, 0.01448584]), 'score_time': array([0.00213242, 0.00211692, 0.00219893, 0.00219703, 0.00217295]), 'test_score': array([0.93333333, 0.9       , 0.93333333, 1.        , 0.96666667])}\n",
            "BernoulliNB の正解率=\n",
            "{'fit_time': array([0.00355577, 0.00283527, 0.00311422, 0.00202012, 0.00199819]), 'score_time': array([0.0018816 , 0.00176167, 0.00108504, 0.00105286, 0.00104427]), 'test_score': array([0.2       , 0.2       , 0.23333333, 0.3       , 0.3       ])}\n",
            "CalibratedClassifierCV の正解率=\n",
            "{'fit_time': array([0.06253529, 0.06053925, 0.05957508, 0.05806231, 0.06308031]), 'score_time': array([0.00201559, 0.00197625, 0.00194788, 0.00240993, 0.00201678]), 'test_score': array([0.96666667, 0.86666667, 0.83333333, 0.83333333, 0.93333333])}\n",
            "CategoricalNB の正解率=\n",
            "{'fit_time': array([0.00506663, 0.00266528, 0.00257087, 0.00254703, 0.00272417]), 'score_time': array([0.00113726, 0.00103974, 0.00099969, 0.00094628, 0.0016439 ]), 'test_score': array([0.93333333, 0.9       , 0.9       , 0.93333333, 0.96666667])}\n",
            "CheckingClassifier の正解率=\n",
            "{'fit_time': array([0.00155497, 0.00086784, 0.00114942, 0.00103641, 0.00097942]), 'score_time': array([0., 0., 0., 0., 0.]), 'test_score': array([nan, nan, nan, nan, nan])}\n",
            "ComplementNB の正解率=\n",
            "{'fit_time': array([0.00322437, 0.00301075, 0.00292253, 0.00357771, 0.00279069]), 'score_time': array([0.00211811, 0.00141525, 0.00136852, 0.00145364, 0.0010941 ]), 'test_score': array([0.63333333, 0.66666667, 0.63333333, 0.63333333, 0.76666667])}\n",
            "DecisionTreeClassifier の正解率=\n",
            "{'fit_time': array([0.00283241, 0.00167847, 0.00179338, 0.00193357, 0.00196886]), 'score_time': array([0.00109124, 0.00090528, 0.00142884, 0.00104904, 0.00106072]), 'test_score': array([0.96666667, 0.93333333, 1.        , 0.86666667, 0.96666667])}\n",
            "DummyClassifier の正解率=\n",
            "{'fit_time': array([0.00138164, 0.00129151, 0.00129175, 0.0014174 , 0.001127  ]), 'score_time': array([0.0012691 , 0.00078201, 0.00136113, 0.00068188, 0.00064325]), 'test_score': array([0.26666667, 0.3       , 0.3       , 0.26666667, 0.36666667])}\n",
            "ExtraTreeClassifier の正解率=\n",
            "{'fit_time': array([0.00255156, 0.00255418, 0.00273442, 0.00259471, 0.00183964]), 'score_time': array([0.00132895, 0.00126553, 0.00158548, 0.00125194, 0.00099587]), 'test_score': array([0.9       , 0.93333333, 0.93333333, 0.96666667, 0.93333333])}\n",
            "ExtraTreesClassifier の正解率=\n",
            "{'fit_time': array([0.09785199, 0.08953261, 0.09348369, 0.08868766, 0.09323597]), 'score_time': array([0.00903749, 0.00841761, 0.00848603, 0.01146531, 0.00854182]), 'test_score': array([0.9       , 0.96666667, 0.96666667, 0.96666667, 0.96666667])}\n",
            "GaussianNB の正解率=\n",
            "{'fit_time': array([0.00252318, 0.00175023, 0.00175619, 0.00183487, 0.00161409]), 'score_time': array([0.00195694, 0.00099969, 0.00094247, 0.00094175, 0.00093246]), 'test_score': array([0.9       , 1.        , 0.9       , 1.        , 0.96666667])}\n",
            "GaussianProcessClassifier の正解率=\n",
            "{'fit_time': array([0.03163743, 0.03419304, 0.03333139, 0.03275466, 0.04067588]), 'score_time': array([0.00531769, 0.00560546, 0.00551486, 0.00538254, 0.00577855]), 'test_score': array([0.93333333, 0.96666667, 1.        , 1.        , 0.9       ])}\n",
            "GradientBoostingClassifier の正解率=\n",
            "{'fit_time': array([0.21883559, 0.17966747, 0.17087579, 0.17247677, 0.17686749]), 'score_time': array([0.00167632, 0.00164533, 0.00163341, 0.00160408, 0.00163579]), 'test_score': array([0.96666667, 0.96666667, 0.93333333, 0.96666667, 0.93333333])}\n",
            "HistGradientBoostingClassifier の正解率=\n",
            "{'fit_time': array([0.14692664, 0.13972449, 0.13848662, 0.15947008, 0.13725615]), 'score_time': array([0.00589824, 0.00608158, 0.00549364, 0.00544834, 0.00584221]), 'test_score': array([0.96666667, 0.93333333, 0.93333333, 1.        , 0.9       ])}\n",
            "KNeighborsClassifier の正解率=\n",
            "{'fit_time': array([0.00199962, 0.00203586, 0.00183821, 0.00180101, 0.00183868]), 'score_time': array([0.00401139, 0.00745583, 0.00278378, 0.00268149, 0.0027585 ]), 'test_score': array([0.93333333, 0.96666667, 0.96666667, 0.96666667, 0.96666667])}\n",
            "LabelPropagation の正解率=\n",
            "{'fit_time': array([0.00689268, 0.00782943, 0.00760436, 0.0074687 , 0.00813746]), 'score_time': array([0.00171685, 0.0016911 , 0.00168419, 0.00185418, 0.00167561]), 'test_score': array([1.        , 1.        , 0.96666667, 0.96666667, 0.86666667])}\n",
            "LabelSpreading の正解率=\n",
            "{'fit_time': array([0.00575233, 0.0060792 , 0.00838041, 0.00837135, 0.00827336]), 'score_time': array([0.00378466, 0.00166512, 0.00171542, 0.00165367, 0.0016582 ]), 'test_score': array([0.96666667, 0.96666667, 0.96666667, 0.96666667, 0.93333333])}\n",
            "LinearDiscriminantAnalysis の正解率=\n",
            "{'fit_time': array([0.00319743, 0.00801969, 0.01009154, 0.01003599, 0.00416279]), 'score_time': array([0.00136018, 0.00133276, 0.00133276, 0.00146794, 0.00487566]), 'test_score': array([0.96666667, 1.        , 1.        , 0.93333333, 1.        ])}\n",
            "LinearSVC の正解率=\n",
            "{'fit_time': array([0.02688098, 0.02025747, 0.0117979 , 0.01093459, 0.01106095]), 'score_time': array([0.00135422, 0.00128436, 0.00130415, 0.00146127, 0.00145912]), 'test_score': array([0.96666667, 0.96666667, 1.        , 0.86666667, 0.96666667])}\n",
            "LogisticRegression の正解率=\n",
            "{'fit_time': array([0.03254461, 0.03164887, 0.03215146, 0.03032613, 0.02928305]), 'score_time': array([0.00133657, 0.00132966, 0.00139856, 0.00132322, 0.00130844]), 'test_score': array([0.96666667, 0.93333333, 0.96666667, 0.9       , 1.        ])}\n",
            "LogisticRegressionCV の正解率=\n",
            "{'fit_time': array([0.93024111, 0.75122285, 0.75730228, 0.79132462, 0.80238986]), 'score_time': array([0.00139213, 0.00116253, 0.00121951, 0.00120091, 0.00122404]), 'test_score': array([0.96666667, 1.        , 1.        , 0.9       , 0.93333333])}\n",
            "MLPClassifier の正解率=\n",
            "{'fit_time': array([0.13382578, 0.13986707, 0.13029385, 0.12909675, 0.13517404]), 'score_time': array([0.0014441 , 0.00147629, 0.00155783, 0.001369  , 0.00137162]), 'test_score': array([0.96666667, 1.        , 0.96666667, 0.96666667, 1.        ])}\n",
            "MultinomialNB の正解率=\n",
            "{'fit_time': array([0.00219917, 0.00197887, 0.00206184, 0.00185561, 0.00189447]), 'score_time': array([0.00100517, 0.00091171, 0.00090432, 0.0009048 , 0.00091982]), 'test_score': array([0.96666667, 0.93333333, 0.9       , 0.83333333, 1.        ])}\n",
            "NearestCentroid の正解率=\n",
            "{'fit_time': array([0.00273228, 0.00145555, 0.00140953, 0.00137758, 0.00135398]), 'score_time': array([0.0012188 , 0.00100279, 0.0010519 , 0.00097084, 0.00097919]), 'test_score': array([0.96666667, 0.93333333, 0.83333333, 0.93333333, 0.96666667])}\n",
            "NuSVC の正解率=\n",
            "{'fit_time': array([0.00283551, 0.00220084, 0.0021677 , 0.00210977, 0.00218296]), 'score_time': array([0.00103688, 0.00097442, 0.00097156, 0.00122833, 0.00099683]), 'test_score': array([1.        , 1.        , 0.93333333, 0.93333333, 0.93333333])}\n",
            "PassiveAggressiveClassifier の正解率=\n",
            "{'fit_time': array([0.00488353, 0.003649  , 0.00335336, 0.00355983, 0.00330949]), 'score_time': array([0.0012033 , 0.00108552, 0.00103092, 0.00097966, 0.00095463]), 'test_score': array([0.83333333, 0.8       , 0.86666667, 0.93333333, 0.93333333])}\n",
            "Perceptron の正解率=\n",
            "{'fit_time': array([0.00586128, 0.0036273 , 0.00346947, 0.00338197, 0.00387073]), 'score_time': array([0.0011611 , 0.00104952, 0.001019  , 0.00099587, 0.00105023]), 'test_score': array([0.56666667, 0.46666667, 0.93333333, 0.86666667, 0.93333333])}\n",
            "QuadraticDiscriminantAnalysis の正解率=\n",
            "{'fit_time': array([0.0031817 , 0.0034554 , 0.00182414, 0.00173306, 0.00173402]), 'score_time': array([0.00158668, 0.00119901, 0.0011301 , 0.00110149, 0.00109124]), 'test_score': array([0.96666667, 1.        , 1.        , 0.93333333, 0.96666667])}\n",
            "RadiusNeighborsClassifier の正解率=\n",
            "{'fit_time': array([0.00224137, 0.00167632, 0.00159097, 0.00155544, 0.00156832]), 'score_time': array([0.00263238, 0.00179744, 0.00168943, 0.0016849 , 0.00172949]), 'test_score': array([0.96666667, 0.93333333, 1.        , 0.9       , 0.93333333])}\n",
            "RandomForestClassifier の正解率=\n",
            "{'fit_time': array([0.13263822, 0.12278008, 0.12506318, 0.12651038, 0.12197375]), 'score_time': array([0.0085175 , 0.00845838, 0.00926328, 0.00850868, 0.00814438]), 'test_score': array([0.96666667, 0.9       , 0.96666667, 0.93333333, 0.93333333])}\n",
            "RidgeClassifier の正解率=\n",
            "{'fit_time': array([0.00520015, 0.00479388, 0.00293398, 0.00305319, 0.00315738]), 'score_time': array([0.00142503, 0.00097251, 0.00090075, 0.00099492, 0.00097418]), 'test_score': array([0.86666667, 0.9       , 0.73333333, 0.8       , 0.93333333])}\n",
            "RidgeClassifierCV の正解率=\n",
            "{'fit_time': array([0.0064435 , 0.00359893, 0.00328541, 0.00320625, 0.0030973 ]), 'score_time': array([0.00114751, 0.00101876, 0.00098801, 0.00094151, 0.00092244]), 'test_score': array([0.73333333, 0.8       , 0.8       , 0.8       , 0.83333333])}\n",
            "SGDClassifier の正解率=\n",
            "{'fit_time': array([0.00473452, 0.00306201, 0.00313115, 0.00361824, 0.00497007]), 'score_time': array([0.00091434, 0.00085855, 0.0008924 , 0.00098467, 0.00139356]), 'test_score': array([0.73333333, 0.93333333, 0.96666667, 0.9       , 0.9       ])}\n",
            "SVC の正解率=\n",
            "{'fit_time': array([0.00288558, 0.00210667, 0.00175452, 0.0016973 , 0.00182796]), 'score_time': array([0.00207543, 0.00096631, 0.00093365, 0.00097537, 0.00093865]), 'test_score': array([1.        , 0.96666667, 0.96666667, 0.93333333, 0.93333333])}\n"
          ],
          "name": "stdout"
        }
      ]
    },
    {
      "cell_type": "code",
      "metadata": {
        "id": "rMVYB3mWVxS8"
      },
      "source": [
        "from sklearn.model_selection import GridSearchCV\n",
        "from sklearn.svm import SVC"
      ],
      "execution_count": null,
      "outputs": []
    },
    {
      "cell_type": "code",
      "metadata": {
        "id": "Tezl9qwXV_PS",
        "outputId": "3c20eefc-ee04-4d63-f9e1-1bfbc0447a3f",
        "colab": {
          "base_uri": "https://localhost:8080/"
        }
      },
      "source": [
        "#\n",
        "parameters = [\n",
        "              #3パターン\n",
        "              { \"C\":[1, 10, 100, 1000], \"kernel\":[\"linear\"] },\n",
        "              { \"C\":[1, 10, 100, 1000], \"kernel\":[\"rbf\"], \"gamma\":[0.001, 0.0001] },\n",
        "              { \"C\":[1, 10, 100, 1000], \"kernel\":[\"sigmoid\"], \"gamma\":[0.001, 0.0001] }         \n",
        "]\n",
        "\n",
        "#普通の学習\n",
        "clf = SVC()\n",
        "clf.fit(x_train, y_train)\n",
        "y_pred = clf.predict(x_test)\n",
        "print(\"普通の学習の正解率 = \", accuracy_score(y_test,y_pred))\n",
        "\n",
        "#グリッドサーチ\n",
        "#\n",
        "kfold_cv = KFold(n_splits=5, shuffle=True )\n",
        "#\n",
        "clf_gird = GridSearchCV( SVC(), parameters, cv=kfold_cv)\n",
        "clf_gird.fit(x_train, y_train)\n",
        "print(\"最適なパラメーター = \", clf_gird.best_estimator_)\n",
        "y_pred = clf_gird.predict(x_test)\n",
        "print(\"グリッドサーチの学習の正解率 = \", accuracy_score(y_test,y_pred))\n"
      ],
      "execution_count": null,
      "outputs": [
        {
          "output_type": "stream",
          "text": [
            "普通の学習の正解率 =  0.9666666666666667\n",
            "最適なパラメーター =  SVC(C=1, break_ties=False, cache_size=200, class_weight=None, coef0=0.0,\n",
            "    decision_function_shape='ovr', degree=3, gamma='scale', kernel='linear',\n",
            "    max_iter=-1, probability=False, random_state=None, shrinking=True,\n",
            "    tol=0.001, verbose=False)\n",
            "グリッドサーチの学習の正解率 =  1.0\n"
          ],
          "name": "stdout"
        }
      ]
    },
    {
      "cell_type": "code",
      "metadata": {
        "id": "CosSqAxUZ3wi",
        "outputId": "68eac5b9-404d-4652-ad27-24dfa00385de",
        "colab": {
          "base_uri": "https://localhost:8080/"
        }
      },
      "source": [
        "import numpy as np\n",
        "a = np.array([1,2,3,4,5])\n",
        "print(a)\n",
        "print(type(a))"
      ],
      "execution_count": null,
      "outputs": [
        {
          "output_type": "stream",
          "text": [
            "[1 2 3 4 5]\n",
            "<class 'numpy.ndarray'>\n"
          ],
          "name": "stdout"
        }
      ]
    },
    {
      "cell_type": "code",
      "metadata": {
        "id": "74OuuG8rhm11",
        "outputId": "8ebb6047-c6f7-4e36-b595-c1ad44914f8b",
        "colab": {
          "base_uri": "https://localhost:8080/"
        }
      },
      "source": [
        "b = np.array([[1,2,3],[4,5,6]])\n",
        "print(b)"
      ],
      "execution_count": null,
      "outputs": [
        {
          "output_type": "stream",
          "text": [
            "[[1 2 3]\n",
            " [4 5 6]]\n"
          ],
          "name": "stdout"
        }
      ]
    },
    {
      "cell_type": "code",
      "metadata": {
        "id": "8CBBCWbfhpkg",
        "outputId": "1100050a-9035-4a53-fd0b-089d36465793",
        "colab": {
          "base_uri": "https://localhost:8080/"
        }
      },
      "source": [
        "print(np.zeros(10))\n",
        "print(np.zeros((3,2)))\n",
        "print(np.ones(2))"
      ],
      "execution_count": null,
      "outputs": [
        {
          "output_type": "stream",
          "text": [
            "[0. 0. 0. 0. 0. 0. 0. 0. 0. 0.]\n",
            "[[0. 0.]\n",
            " [0. 0.]\n",
            " [0. 0.]]\n",
            "[1. 1.]\n"
          ],
          "name": "stdout"
        }
      ]
    },
    {
      "cell_type": "code",
      "metadata": {
        "id": "1AhaFFv7h021",
        "outputId": "79e090f2-574d-4e48-efbe-b4f1dd7bb88c",
        "colab": {
          "base_uri": "https://localhost:8080/"
        }
      },
      "source": [
        "print(np.arange(5))\n",
        "print(np.arange(2,9))\n",
        "print(np.arange(5,8,0.5))"
      ],
      "execution_count": null,
      "outputs": [
        {
          "output_type": "stream",
          "text": [
            "[0 1 2 3 4]\n",
            "[2 3 4 5 6 7 8]\n",
            "[5.  5.5 6.  6.5 7.  7.5]\n"
          ],
          "name": "stdout"
        }
      ]
    },
    {
      "cell_type": "code",
      "metadata": {
        "id": "0g3jSfNUh7C2",
        "outputId": "3fdf057b-01b8-41da-b9e5-8644f19c0192",
        "colab": {
          "base_uri": "https://localhost:8080/"
        }
      },
      "source": [
        "a = np.array([1,2,3,4,5])\n",
        "b = a*2\n",
        "print(b)\n",
        "x = np.arange(10)\n",
        "print(x)\n",
        "y=3*x + 5\n",
        "print(y)"
      ],
      "execution_count": null,
      "outputs": [
        {
          "output_type": "stream",
          "text": [
            "[ 2  4  6  8 10]\n",
            "[0 1 2 3 4 5 6 7 8 9]\n",
            "[ 5  8 11 14 17 20 23 26 29 32]\n"
          ],
          "name": "stdout"
        }
      ]
    },
    {
      "cell_type": "code",
      "metadata": {
        "id": "NSdnaJihh7MS",
        "outputId": "dd3cffc6-fb9f-4b48-c91f-a9e2a6a2e9c6",
        "colab": {
          "base_uri": "https://localhost:8080/"
        }
      },
      "source": [
        "a=np.array([[1,2,3],[4,5,6]])\n",
        "print(a)\n",
        "print(a.shape)\n",
        "\n",
        "b=np.array([[1,2,3],[4,5,6],[7,8,9]])\n",
        "print(b)\n",
        "print(b.shape)"
      ],
      "execution_count": null,
      "outputs": [
        {
          "output_type": "stream",
          "text": [
            "[[1 2 3]\n",
            " [4 5 6]]\n",
            "(2, 3)\n",
            "[[1 2 3]\n",
            " [4 5 6]\n",
            " [7 8 9]]\n",
            "(3, 3)\n"
          ],
          "name": "stdout"
        }
      ]
    },
    {
      "cell_type": "code",
      "metadata": {
        "id": "8ogKQitoh7Tk",
        "outputId": "2dc047a2-5780-496b-fdb0-f2657b804bf5",
        "colab": {
          "base_uri": "https://localhost:8080/"
        }
      },
      "source": [
        "a = np.array([[1,2,3],[4,5,6]])\n",
        "print(\"a=\",a)\n",
        "b=a.flatten()\n",
        "print(\"b=\",b)\n",
        "\n",
        "a=np.array([[1,2,3],[4,5,6]])\n",
        "print(a)\n",
        "b = a.reshape(3,2)\n",
        "print(b)"
      ],
      "execution_count": null,
      "outputs": [
        {
          "output_type": "stream",
          "text": [
            "a= [[1 2 3]\n",
            " [4 5 6]]\n",
            "b= [1 2 3 4 5 6]\n",
            "[[1 2 3]\n",
            " [4 5 6]]\n",
            "[[1 2]\n",
            " [3 4]\n",
            " [5 6]]\n"
          ],
          "name": "stdout"
        }
      ]
    },
    {
      "cell_type": "code",
      "metadata": {
        "id": "-ztsDmEbh7Xk",
        "outputId": "246c051f-b371-43e0-8f71-dfa6e5fe31e9",
        "colab": {
          "base_uri": "https://localhost:8080/"
        }
      },
      "source": [
        "v = np.array([[1,2,3],[4,5,6],[7,8,9]])\n",
        "a=v[0]\n",
        "print(a) #2次元配列の1行目\n",
        "b=v[1:]\n",
        "print(b) #1行目以降\n",
        "c=v[:,0]\n",
        "print(c) #すべての行の0列目"
      ],
      "execution_count": null,
      "outputs": [
        {
          "output_type": "stream",
          "text": [
            "[1 2 3]\n",
            "[[4 5 6]\n",
            " [7 8 9]]\n",
            "[1 4 7]\n"
          ],
          "name": "stdout"
        }
      ]
    }
  ]
}