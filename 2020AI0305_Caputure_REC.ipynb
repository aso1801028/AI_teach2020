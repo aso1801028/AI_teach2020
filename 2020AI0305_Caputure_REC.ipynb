{
  "nbformat": 4,
  "nbformat_minor": 0,
  "metadata": {
    "colab": {
      "name": "2020AI0305-Caputure-REC.ipynb",
      "provenance": [],
      "collapsed_sections": [],
      "authorship_tag": "ABX9TyOrKcMh1KODqQisPg1WomAV",
      "include_colab_link": true
    },
    "kernelspec": {
      "name": "python3",
      "display_name": "Python 3"
    }
  },
  "cells": [
    {
      "cell_type": "markdown",
      "metadata": {
        "id": "view-in-github",
        "colab_type": "text"
      },
      "source": [
        "<a href=\"https://colab.research.google.com/github/aso1801028/AI_teach2020/blob/master/2020AI0305_Caputure_REC.ipynb\" target=\"_parent\"><img src=\"https://colab.research.google.com/assets/colab-badge.svg\" alt=\"Open In Colab\"/></a>"
      ]
    },
    {
      "cell_type": "markdown",
      "metadata": {
        "id": "kuznAMXaMIxX"
      },
      "source": [
        "###カメラや動画ファイルからキャプチャ内容を加工して録画する"
      ]
    },
    {
      "cell_type": "code",
      "metadata": {
        "id": "mG3-q5qTL5hA"
      },
      "source": [
        "import cv2,os\n",
        "import urllib.request as req"
      ],
      "execution_count": 1,
      "outputs": []
    },
    {
      "cell_type": "markdown",
      "metadata": {
        "id": "Jz2lhwjSMHn9"
      },
      "source": [
        "###"
      ]
    },
    {
      "cell_type": "code",
      "metadata": {
        "colab": {
          "base_uri": "https://localhost:8080/"
        },
        "id": "TuvfCxuaMJn4",
        "outputId": "5fd3eb09-fe91-47c0-a9f3-7febadf87666"
      },
      "source": [
        "url=\"https://github.com/masatokg/sample_photo/raw/master/fish.mp4\"\n",
        "save_file = \"fish\"\n",
        "req.urlretrieve(url,save_file)\n"
      ],
      "execution_count": 2,
      "outputs": [
        {
          "output_type": "execute_result",
          "data": {
            "text/plain": [
              "('fish', <http.client.HTTPMessage at 0x7fb241e9b390>)"
            ]
          },
          "metadata": {
            "tags": []
          },
          "execution_count": 2
        }
      ]
    },
    {
      "cell_type": "markdown",
      "metadata": {
        "id": "0z5WbCrtMJ8h"
      },
      "source": [
        "###1キャプチャ処理の定義\n",
        "\n"
      ]
    },
    {
      "cell_type": "code",
      "metadata": {
        "id": "Uz7McSz3MKXE"
      },
      "source": [
        "#保存ファイル名\n",
        "out_file = \"out.mp4\"\n",
        "#キャプチャソースを指定してキャプチャインスタンスを取得\n",
        "#webカメラの場合、０録画ファイルの場合、ファイルパス\n",
        "cap = cv2.VideoCapture(save_file)\n",
        "#動画フォーマット（mp4ビデオ）を指定するインスタンスを取得\n",
        "fourcc =cv2.VideoWriter_fourcc('M','P','4','V')\n",
        "#フレームレート(fps)を指定\n",
        "fps = 30.0"
      ],
      "execution_count": 3,
      "outputs": []
    },
    {
      "cell_type": "markdown",
      "metadata": {
        "id": "e-h819LCMKqP"
      },
      "source": [
        "###キャプチャーしたフレームの加工処理関数"
      ]
    },
    {
      "cell_type": "code",
      "metadata": {
        "id": "3haD9irQMLDD"
      },
      "source": [
        "#フレームを引数で受け取り、加工して戻り値で返す\n",
        "def process_img(frame):\n",
        "\n",
        "  #加工処理\n",
        "  #BGRのうち、BGを0にしてRの光だけにする\n",
        "  frame[:,:,0] = 0;#B\n",
        "  frame[:,:,1] = 0;#G\n",
        "\n",
        "  return frame"
      ],
      "execution_count": 4,
      "outputs": []
    },
    {
      "cell_type": "markdown",
      "metadata": {
        "id": "3GwnBCZJPzYe"
      },
      "source": [
        ""
      ]
    },
    {
      "cell_type": "code",
      "metadata": {
        "id": "eLGvVEY_PuhF"
      },
      "source": [
        "def open_recorder (frame):\n",
        "  h=len(frame)#フレームの高さ(Numpy2次元配列の列数)\n",
        "  w=len(frame[0])# フレームの幅(Numpy2次元配列の列数)\n",
        "  size = (w,h)#フレーム画像サイズをタプル変数で定義\n",
        "  #れこーたのインスタンスを生成○\n",
        "  #??fouce\n",
        "  recorder = cv2.VideoWriter(out_file,fourcc,fps,size,isColor=True)\n",
        "  return recorder"
      ],
      "execution_count": 12,
      "outputs": []
    },
    {
      "cell_type": "markdown",
      "metadata": {
        "id": "XG5nnodgRvW5"
      },
      "source": [
        "###きゃおう茶の読み込み処理を実行"
      ]
    },
    {
      "cell_type": "code",
      "metadata": {
        "colab": {
          "base_uri": "https://localhost:8080/"
        },
        "id": "U2Olsl58Rum9",
        "outputId": "368a266b-7533-4ce3-c4f3-c24a4d21001a"
      },
      "source": [
        "#\n",
        "is_ok,frame = cap.read()\n",
        "#成功なら、そのフレームを録画するためのレコーダーを開く\n",
        "if is_ok:\n",
        "  print(\"1 frame has read.\")\n",
        "  #そのフレームを録画するれーこーだを開く自作関数\n",
        "  recorder = open_recorder(frame)\n",
        "  #読み込み処理がなくなるまで1フレームこと無限ループ\n",
        "  while True:\n",
        "    #読み込んだ1フレームをレコーダーに書き込む\n",
        "    frame = process_img(frame)\n",
        "    #○加工したフレームをレコーダーに書き込む\n",
        "    recorder.write(frame)\n",
        "    #次のフレームを読み込む\n",
        "    is_ok,frame = cap.read()\n",
        "    #読み込むフレームがなかったら、無限ループを breakして終わる\n",
        "    if is_ok is not True:\n",
        "      break\n",
        "    #if end\n",
        "  #while end\n",
        "else:\n",
        "  print(\"there is no frame.\")\n",
        "#if end"
      ],
      "execution_count": 13,
      "outputs": [
        {
          "output_type": "stream",
          "text": [
            "1 frame has read.\n"
          ],
          "name": "stdout"
        }
      ]
    },
    {
      "cell_type": "markdown",
      "metadata": {
        "id": "ruIakHeKTXlU"
      },
      "source": [
        "###後処理とダウンロード"
      ]
    },
    {
      "cell_type": "code",
      "metadata": {
        "colab": {
          "base_uri": "https://localhost:8080/",
          "height": 35
        },
        "id": "PD75N8ARTYYA",
        "outputId": "5c37c421-fe87-4f44-89d2-18aa0375d940"
      },
      "source": [
        "#レコーダーの関数\n",
        "recorder.release()\n",
        "#キャプチャーの解放\n",
        "cap.release()\n",
        "#\n",
        "print('')\n",
        "#出力mp4ダウンロードファイル\n",
        "from google.colab import files\n",
        "files.download(out_file)"
      ],
      "execution_count": 16,
      "outputs": [
        {
          "output_type": "stream",
          "text": [
            "\n"
          ],
          "name": "stdout"
        },
        {
          "output_type": "display_data",
          "data": {
            "application/javascript": [
              "\n",
              "    async function download(id, filename, size) {\n",
              "      if (!google.colab.kernel.accessAllowed) {\n",
              "        return;\n",
              "      }\n",
              "      const div = document.createElement('div');\n",
              "      const label = document.createElement('label');\n",
              "      label.textContent = `Downloading \"${filename}\": `;\n",
              "      div.appendChild(label);\n",
              "      const progress = document.createElement('progress');\n",
              "      progress.max = size;\n",
              "      div.appendChild(progress);\n",
              "      document.body.appendChild(div);\n",
              "\n",
              "      const buffers = [];\n",
              "      let downloaded = 0;\n",
              "\n",
              "      const channel = await google.colab.kernel.comms.open(id);\n",
              "      // Send a message to notify the kernel that we're ready.\n",
              "      channel.send({})\n",
              "\n",
              "      for await (const message of channel.messages) {\n",
              "        // Send a message to notify the kernel that we're ready.\n",
              "        channel.send({})\n",
              "        if (message.buffers) {\n",
              "          for (const buffer of message.buffers) {\n",
              "            buffers.push(buffer);\n",
              "            downloaded += buffer.byteLength;\n",
              "            progress.value = downloaded;\n",
              "          }\n",
              "        }\n",
              "      }\n",
              "      const blob = new Blob(buffers, {type: 'application/binary'});\n",
              "      const a = document.createElement('a');\n",
              "      a.href = window.URL.createObjectURL(blob);\n",
              "      a.download = filename;\n",
              "      div.appendChild(a);\n",
              "      a.click();\n",
              "      div.remove();\n",
              "    }\n",
              "  "
            ],
            "text/plain": [
              "<IPython.core.display.Javascript object>"
            ]
          },
          "metadata": {
            "tags": []
          }
        },
        {
          "output_type": "display_data",
          "data": {
            "application/javascript": [
              "download(\"download_c053562a-ba9a-4b91-80b3-8158dc052b9e\", \"out.mp4\", 11096597)"
            ],
            "text/plain": [
              "<IPython.core.display.Javascript object>"
            ]
          },
          "metadata": {
            "tags": []
          }
        }
      ]
    }
  ]
}